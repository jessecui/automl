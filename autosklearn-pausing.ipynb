{
 "cells": [
  {
   "cell_type": "code",
   "execution_count": 1,
   "metadata": {},
   "outputs": [
    {
     "name": "stderr",
     "output_type": "stream",
     "text": [
      "/home/jcui/.conda/envs/auto-sklearn/lib/python3.7/site-packages/sklearn/feature_extraction/text.py:17: DeprecationWarning: Using or importing the ABCs from 'collections' instead of from 'collections.abc' is deprecated, and in 3.8 it will stop working\n",
      "  from collections import Mapping, defaultdict\n"
     ]
    }
   ],
   "source": [
    "# Surpress warnings\n",
    "import warnings\n",
    "warnings.filterwarnings(\"ignore\")\n",
    "\n",
    "# Import libraries\n",
    "from pmlb import dataset_names, classification_dataset_names, regression_dataset_names, fetch_data\n",
    "import pandas as pd\n",
    "import matplotlib.pyplot as plt\n",
    "import numpy as np\n",
    "import seaborn as sb\n",
    "\n",
    "# Import SK-learn and AutoSK-Learn\n",
    "import autosklearn.classification\n",
    "import autosklearn.regression\n",
    "import sklearn.model_selection\n",
    "import sklearn.datasets\n",
    "import sklearn.metrics\n",
    "\n",
    "import time\n",
    "import shutil\n",
    "from multiprocessing import Process, current_process, Queue"
   ]
  },
  {
   "cell_type": "code",
   "execution_count": 31,
   "metadata": {
    "collapsed": true
   },
   "outputs": [],
   "source": [
    "dataset = classification_dataset_names[0]"
   ]
  },
  {
   "cell_type": "code",
   "execution_count": 32,
   "metadata": {
    "collapsed": true
   },
   "outputs": [],
   "source": [
    "X, y = fetch_data(dataset, return_X_y=True)"
   ]
  },
  {
   "cell_type": "code",
   "execution_count": 33,
   "metadata": {
    "collapsed": true
   },
   "outputs": [],
   "source": [
    "X_train, X_test, y_train, y_test = sklearn.model_selection.train_test_split(X, y, random_state=1)"
   ]
  },
  {
   "cell_type": "code",
   "execution_count": 34,
   "metadata": {
    "collapsed": true
   },
   "outputs": [],
   "source": [
    "# Set the tmp folders where the models will take data out of\n",
    "tmp_folder = '/tmp/autosklearn_parallel_example_tmp'\n",
    "output_folder = '/tmp/autosklearn_parallel_example_out'\n",
    "\n",
    "# Clear the folders if there are contents from previous runs\n",
    "for dir in [tmp_folder, output_folder]:\n",
    "    try:\n",
    "        shutil.rmtree(dir)\n",
    "    except OSError as e:\n",
    "        print('Exception occurred')"
   ]
  },
  {
   "cell_type": "code",
   "execution_count": 35,
   "metadata": {
    "collapsed": true
   },
   "outputs": [],
   "source": [
    "# A function to run the main model on the main training data\n",
    "def run_main_model(X_train, y_train, return_queue):\n",
    "    automl = autosklearn.classification.AutoSklearnClassifier(\n",
    "            time_left_for_this_task=150, # sec., how long should this seed fit process run\n",
    "            per_run_time_limit = 15,        \n",
    "            shared_mode=True, # tmp folder will be shared between seeds\n",
    "            tmp_folder=tmp_folder,\n",
    "            output_folder=output_folder,\n",
    "            delete_tmp_folder_after_terminate=False,\n",
    "            delete_output_folder_after_terminate=False,\n",
    "            seed=1,)\n",
    "    automl.fit(X_train, y_train)    \n",
    "    print(\"Done fitting\")\n",
    "    current_score = automl.score(X_test, y_test)\n",
    "    print(f\"Final score: {current_score}\")\n",
    "    return_queue.put(automl)"
   ]
  },
  {
   "cell_type": "code",
   "execution_count": 36,
   "metadata": {
    "collapsed": true
   },
   "outputs": [],
   "source": [
    "# A function that will be threaded periodically to take snapshots of the main model\n",
    "def snapshot_model_and_score(X_test, y_test, seed, curr_snap_time):\n",
    "    snapshot = autosklearn.classification.AutoSklearnClassifier(\n",
    "            time_left_for_this_task=0,\n",
    "            shared_mode=True, # tmp folder will be shared between seeds\n",
    "            tmp_folder=tmp_folder,\n",
    "            output_folder=output_folder,\n",
    "            delete_tmp_folder_after_terminate=False,\n",
    "            delete_output_folder_after_terminate=False,\n",
    "            seed=seed,)\n",
    "    \n",
    "    # Run the snapshot model to retrieve the model information from the temp folder\n",
    "    # This solution is not ideal even though it works. It currently does print an error because the time cap is 0.\n",
    "    try:\n",
    "        snapshot.fit(X_test, y_test)\n",
    "    except:\n",
    "        pass\n",
    "    \n",
    "    current_score = snapshot.score(X_test, y_test)\n",
    "    print(f\"Current snapshot score at time {curr_snap_time}: {current_score}\")"
   ]
  },
  {
   "cell_type": "code",
   "execution_count": 37,
   "metadata": {
    "scrolled": true
   },
   "outputs": [
    {
     "name": "stdout",
     "output_type": "stream",
     "text": [
      "[WARNING] [2019-03-15 23:30:36,152:EnsembleBuilder(1):b7949df5eb6db3b08b85a9008850c8f2] No models better than random - using Dummy Score!\n",
      "[WARNING] [2019-03-15 23:30:36,164:EnsembleBuilder(1):b7949df5eb6db3b08b85a9008850c8f2] No models better than random - using Dummy Score!\n",
      "Current time is 3237562.050674783\n",
      "[ERROR] [2019-03-15 23:30:51,680:AutoML(2):b7949df5eb6db3b08b85a9008850c8f2] Error creating dummy predictions: {'error': 'Timeout', 'configuration_origin': 'DUMMY'} \n",
      "Current snapshot score at time 15: 0.5\n",
      "Current time is 3237577.076199593\n",
      "[ERROR] [2019-03-15 23:31:06,705:AutoML(3):b7949df5eb6db3b08b85a9008850c8f2] Error creating dummy predictions: {'error': 'Timeout', 'configuration_origin': 'DUMMY'} \n",
      "Current snapshot score at time 30: 0.5625\n",
      "Current time is 3237592.100051172\n",
      "[ERROR] [2019-03-15 23:31:21,727:AutoML(4):b7949df5eb6db3b08b85a9008850c8f2] Error creating dummy predictions: {'error': 'Timeout', 'configuration_origin': 'DUMMY'} \n",
      "Current snapshot score at time 45: 0.5625\n",
      "Current time is 3237607.113061848\n",
      "[ERROR] [2019-03-15 23:31:36,742:AutoML(5):b7949df5eb6db3b08b85a9008850c8f2] Error creating dummy predictions: {'error': 'Timeout', 'configuration_origin': 'DUMMY'} \n",
      "Current snapshot score at time 60: 0.5625\n",
      "Current time is 3237622.13605388\n",
      "[ERROR] [2019-03-15 23:31:51,764:AutoML(6):b7949df5eb6db3b08b85a9008850c8f2] Error creating dummy predictions: {'error': 'Timeout', 'configuration_origin': 'DUMMY'} \n",
      "Current snapshot score at time 75: 0.5625\n",
      "Current time is 3237637.164056699\n",
      "[ERROR] [2019-03-15 23:32:06,794:AutoML(7):b7949df5eb6db3b08b85a9008850c8f2] Error creating dummy predictions: {'error': 'Timeout', 'configuration_origin': 'DUMMY'} \n",
      "Current snapshot score at time 90: 0.565\n",
      "Current time is 3237652.178991062\n",
      "[ERROR] [2019-03-15 23:32:21,809:AutoML(8):b7949df5eb6db3b08b85a9008850c8f2] Error creating dummy predictions: {'error': 'Timeout', 'configuration_origin': 'DUMMY'} \n",
      "Current snapshot score at time 105: 0.565\n",
      "Current time is 3237667.192506567\n",
      "[ERROR] [2019-03-15 23:32:36,823:AutoML(9):b7949df5eb6db3b08b85a9008850c8f2] Error creating dummy predictions: {'error': 'Timeout', 'configuration_origin': 'DUMMY'} \n",
      "Current snapshot score at time 120: 0.55\n",
      "Current time is 3237682.208589083\n",
      "[ERROR] [2019-03-15 23:32:51,837:AutoML(10):b7949df5eb6db3b08b85a9008850c8f2] Error creating dummy predictions: {'error': 'Timeout', 'configuration_origin': 'DUMMY'} \n",
      "Current snapshot score at time 135: 0.57\n",
      "Done fitting\n",
      "Final score: 0.57\n",
      "Current time is 3237697.226761932\n",
      "[ERROR] [2019-03-15 23:33:06,859:AutoML(11):b7949df5eb6db3b08b85a9008850c8f2] Error creating dummy predictions: {'error': 'Timeout', 'configuration_origin': 'DUMMY'} \n",
      "Current snapshot score at time 150: 0.57\n"
     ]
    }
   ],
   "source": [
    "# Main script to run the processes for the automl training and the snapshotting\n",
    "snap_times = 10 # How many snaps to take\n",
    "snap_interval = 15 # Seconds between snaps\n",
    "return_queue = Queue()\n",
    "\n",
    "base_process = Process(target = run_main_model, args = (X_train, y_train, return_queue))\n",
    "base_process.start()\n",
    "\n",
    "for snap_time in range(snap_times):\n",
    "    time.sleep(snap_interval)\n",
    "    print(f'Current time is {time.perf_counter()}')\n",
    "    process = Process(target = snapshot_model_and_score, args = (X_test, y_test, snap_time+2, (snap_time+1)*snap_interval))\n",
    "    automl_final = process.start()\n",
    "    "
   ]
  },
  {
   "cell_type": "code",
   "execution_count": 29,
   "metadata": {
    "collapsed": true
   },
   "outputs": [],
   "source": [
    "# Return the final model\n",
    "automl = return_queue.get()"
   ]
  },
  {
   "cell_type": "code",
   "execution_count": 30,
   "metadata": {},
   "outputs": [
    {
     "name": "stdout",
     "output_type": "stream",
     "text": [
      "Final score confirmation: 0.8701990009008271\n"
     ]
    }
   ],
   "source": [
    "print(f\"Final score confirmation: {automl.score(X_test, y_test)}\")"
   ]
  },
  {
   "cell_type": "code",
   "execution_count": null,
   "metadata": {
    "collapsed": true
   },
   "outputs": [],
   "source": []
  }
 ],
 "metadata": {
  "kernelspec": {
   "display_name": "Python [conda env:auto-sklearn]",
   "language": "python",
   "name": "conda-env-auto-sklearn-py"
  },
  "language_info": {
   "codemirror_mode": {
    "name": "ipython",
    "version": 3
   },
   "file_extension": ".py",
   "mimetype": "text/x-python",
   "name": "python",
   "nbconvert_exporter": "python",
   "pygments_lexer": "ipython3",
   "version": "3.7.1"
  }
 },
 "nbformat": 4,
 "nbformat_minor": 1
}
