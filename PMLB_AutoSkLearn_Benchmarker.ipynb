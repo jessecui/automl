{
 "cells": [
  {
   "cell_type": "code",
   "execution_count": 1,
   "metadata": {
    "collapsed": true
   },
   "outputs": [],
   "source": [
    "# Surpress warnings\n",
    "import warnings\n",
    "warnings.filterwarnings(\"ignore\")"
   ]
  },
  {
   "cell_type": "code",
   "execution_count": 26,
   "metadata": {},
   "outputs": [],
   "source": [
    "# Import libraries\n",
    "from pmlb import dataset_names, classification_dataset_names, regression_dataset_names, fetch_data\n",
    "import pandas as pd\n",
    "import matplotlib.pyplot as plt\n",
    "import numpy as np\n",
    "import seaborn as sb\n",
    "\n",
    "# Import SK-learn and AutoSK-Learn\n",
    "import autosklearn.classification\n",
    "import autosklearn.regression\n",
    "import sklearn.model_selection\n",
    "import sklearn.datasets\n",
    "import sklearn.metrics"
   ]
  },
  {
   "cell_type": "code",
   "execution_count": 12,
   "metadata": {},
   "outputs": [
    {
     "data": {
      "text/plain": [
       "_StoreTrueAction(option_strings=['-c', '--class_sets'], dest='class_sets', nargs=0, const=True, default=False, type=None, choices=None, help='Benchmark on classification sets (default)', metavar=None)"
      ]
     },
     "execution_count": 12,
     "metadata": {},
     "output_type": "execute_result"
    }
   ],
   "source": [
    "# Add Argument Parsers for the following:\n",
    "\n",
    "# Min dataset number (default is 1)\n",
    "# Max dataset number (default is 166 for classifcation, 120 for regression)\n",
    "# Mutually exclusive argument for classification vs regression dataset\n",
    "# List of number of seconds to train datasets on (default is 3600)\n",
    "\n",
    "import argparse\n",
    "\n",
    "parser = argparse.ArgumentParser(description='Run Auto-SkLearn on PMLB datasets')\n",
    "\n",
    "parser.add_argument('-min', '--minset', type=int, metavar='', required=False, default=1, help = 'Min dataset number (default 1)')\n",
    "parser.add_argument('-max', '--maxset', type=int, metavar='', required=False, default=166, help = '# Max dataset number (default is 166 for classifcation, 120 for regression)')\n",
    "parser.add_argument('-t', '--times', type=int, nargs='+', metavar='', required=False, default=3600, help = 'List of number of seconds to train datasets on (default is 3600)')\n",
    "\n",
    "class_group = parser.add_mutually_exclusive_group()\n",
    "class_group.add_argument('-r', '--regre_sets', action='store_true', help='Benchmark on regression sets')\n",
    "class_group.add_argument('-c', '--class_sets', action='store_true', help='Benchmark on classification sets (default)')\n",
    "\n"
   ]
  },
  {
   "cell_type": "code",
   "execution_count": 16,
   "metadata": {},
   "outputs": [
    {
     "name": "stdout",
     "output_type": "stream",
     "text": [
      "3\n",
      "4\n",
      "[80, 120]\n",
      "True\n",
      "False\n"
     ]
    }
   ],
   "source": [
    "args = parser.parse_args(['-min', '3', '-max', '4', '-t', '80', '120', '-r'])\n",
    "\n",
    "# Assign variables based on arguments\n",
    "minset = args.minset\n",
    "maxset = args.maxset\n",
    "times = args.times\n",
    "regre_sets = args.regre_sets\n",
    "class_sets = args.class_sets\n",
    "\n",
    "# Set classification sets to default if no class was selected\n",
    "\n",
    "if not regre_sets and not class_sets:\n",
    "    class_sets = True\n",
    "\n",
    "# Rescale dataset max number to be within boundaries\n",
    "if minset < 1:\n",
    "    minset = 1\n",
    "    print('Minset provided is less than 1, changed to 1.')\n",
    "if class_sets and maxset > 166:\n",
    "    maxset = 166\n",
    "    print('Maxset provided is greater than 166, changed to 166.')\n",
    "if regre_sets and maxset > 120:                \n",
    "    maxset = 120\n",
    "    print('Maxset provided is greater than 120, changed to 120.')    \n",
    "    \n",
    "print(minset)\n",
    "print(maxset)\n",
    "print(times)\n",
    "print(regre_sets)\n",
    "print(class_sets)    \n",
    "        "
   ]
  },
  {
   "cell_type": "code",
   "execution_count": 31,
   "metadata": {},
   "outputs": [],
   "source": [
    "# Create a dictionary of the number of features, instances, and classes per classification dataset\n",
    "# Potentially look into including number of binary, integer, and float features in the future\n",
    "\n",
    "datasets = []\n",
    "dataset_props = {}\n",
    "\n",
    "if class_sets:\n",
    "    dataset_names = classification_dataset_names[minset-1: maxset]    \n",
    "if regre_sets:\n",
    "    dataset_names = regression_dataset_names[minset-1: maxset]\n",
    "\n",
    "dataset_number = minset;\n",
    "for dataset in dataset_names:\n",
    "    X, y = fetch_data(dataset, return_X_y=True)\n",
    "    num_instances, num_features =  X.shape\n",
    "    num_classes = (np.unique(y)).size if class_sets else -1\n",
    "    dataset_props[dataset] = (num_instances, num_features, num_classes, dataset_number)\n",
    "    dataset_number += 1"
   ]
  },
  {
   "cell_type": "code",
   "execution_count": 33,
   "metadata": {},
   "outputs": [
    {
     "data": {
      "text/plain": [
       "{'1029_LEV': (1000, 4, -1, 3), '1030_ERA': (1000, 4, -1, 4)}"
      ]
     },
     "execution_count": 33,
     "metadata": {},
     "output_type": "execute_result"
    }
   ],
   "source": [
    "dataset_props"
   ]
  },
  {
   "cell_type": "code",
   "execution_count": 34,
   "metadata": {},
   "outputs": [
    {
     "name": "stdout",
     "output_type": "stream",
     "text": [
      "CURRENT TIME IS  80\n",
      "Auto-SKLearn, on dataset  1029_LEV  | Number:  3 max of  4\n",
      "Properties: \n",
      "(1000, 4, -1, 3)\n",
      "Auto-SKLearn, fitting\n",
      "Time limit for a single run is higher than total time limit. Capping the limit for a single run to the total time given to SMAC (79.615049)\n",
      "[WARNING] [2019-02-24 16:22:28,827:AutoMLSMBO(1)::dbea345df99967b41550f6606cae3649] Could not find meta-data directory /home/jcui/.conda/envs/auto-sklearn/lib/python3.7/site-packages/autosklearn/metalearning/files/r2_regression_dense\n",
      "[WARNING] [2019-02-24 16:22:28,841:EnsembleBuilder(1):dbea345df99967b41550f6606cae3649] No models better than random - using Dummy Score!\n",
      "[WARNING] [2019-02-24 16:22:28,850:EnsembleBuilder(1):dbea345df99967b41550f6606cae3649] No models better than random - using Dummy Score!\n",
      "[16:22:41] /workspace/src/gbm/gbtree.cc:492: drop 0 trees, weight = 1\n",
      "[16:22:41] /workspace/src/gbm/gbtree.cc:492: drop 0 trees, weight = 1\n",
      "[16:22:41] /workspace/src/gbm/gbtree.cc:492: drop 0 trees, weight = 1\n",
      "[16:22:41] /workspace/src/gbm/gbtree.cc:492: drop 0 trees, weight = 1\n",
      "[16:22:41] /workspace/src/gbm/gbtree.cc:492: drop 0 trees, weight = 1\n",
      "[16:22:41] /workspace/src/gbm/gbtree.cc:492: drop 0 trees, weight = 1\n",
      "[16:22:41] /workspace/src/gbm/gbtree.cc:492: drop 0 trees, weight = 1\n",
      "[16:22:41] /workspace/src/gbm/gbtree.cc:492: drop 0 trees, weight = 1\n",
      "[16:22:41] /workspace/src/gbm/gbtree.cc:492: drop 0 trees, weight = 1\n",
      "[16:22:41] /workspace/src/gbm/gbtree.cc:492: drop 0 trees, weight = 1\n",
      "[16:22:41] /workspace/src/gbm/gbtree.cc:492: drop 0 trees, weight = 1\n",
      "[16:22:41] /workspace/src/gbm/gbtree.cc:492: drop 0 trees, weight = 1\n",
      "[16:22:41] /workspace/src/gbm/gbtree.cc:492: drop 0 trees, weight = 1\n",
      "[16:22:41] /workspace/src/gbm/gbtree.cc:492: drop 0 trees, weight = 1\n",
      "[16:22:41] /workspace/src/gbm/gbtree.cc:492: drop 0 trees, weight = 1\n",
      "[16:22:41] /workspace/src/gbm/gbtree.cc:492: drop 0 trees, weight = 1\n",
      "Auto-SKLearn, testing\n",
      "Auto-SKLearn, finished testing on set  3\n",
      "Current time Autosklearn score:  0.5741068851464421\n",
      "Auto-SKLearn, on dataset  1030_ERA  | Number:  4 max of  4\n",
      "Properties: \n",
      "(1000, 4, -1, 4)\n",
      "Auto-SKLearn, fitting\n",
      "Time limit for a single run is higher than total time limit. Capping the limit for a single run to the total time given to SMAC (79.644154)\n",
      "[WARNING] [2019-02-24 16:23:43,941:AutoMLSMBO(1)::8f547c5269839d32e297676356d657f6] Could not find meta-data directory /home/jcui/.conda/envs/auto-sklearn/lib/python3.7/site-packages/autosklearn/metalearning/files/r2_regression_dense\n",
      "[WARNING] [2019-02-24 16:23:43,959:EnsembleBuilder(1):8f547c5269839d32e297676356d657f6] No models better than random - using Dummy Score!\n",
      "[WARNING] [2019-02-24 16:23:43,971:EnsembleBuilder(1):8f547c5269839d32e297676356d657f6] No models better than random - using Dummy Score!\n",
      "Auto-SKLearn, testing\n",
      "Auto-SKLearn, finished testing on set  4\n",
      "Current time Autosklearn score:  0.3074373661411661\n",
      "CURRENT TIME IS  120\n",
      "Auto-SKLearn, on dataset  1029_LEV  | Number:  3 max of  4\n",
      "Properties: \n",
      "(1000, 4, -1, 3)\n",
      "Auto-SKLearn, fitting\n",
      "Time limit for a single run is higher than total time limit. Capping the limit for a single run to the total time given to SMAC (119.606601)\n",
      "[WARNING] [2019-02-24 16:24:58,758:AutoMLSMBO(1)::dbea345df99967b41550f6606cae3649] Could not find meta-data directory /home/jcui/.conda/envs/auto-sklearn/lib/python3.7/site-packages/autosklearn/metalearning/files/r2_regression_dense\n",
      "[WARNING] [2019-02-24 16:24:58,774:EnsembleBuilder(1):dbea345df99967b41550f6606cae3649] No models better than random - using Dummy Score!\n",
      "[WARNING] [2019-02-24 16:24:58,789:EnsembleBuilder(1):dbea345df99967b41550f6606cae3649] No models better than random - using Dummy Score!\n",
      "Auto-SKLearn, testing\n",
      "Auto-SKLearn, finished testing on set  3\n",
      "Current time Autosklearn score:  0.5760681844337083\n",
      "Auto-SKLearn, on dataset  1030_ERA  | Number:  4 max of  4\n",
      "Properties: \n",
      "(1000, 4, -1, 4)\n",
      "Auto-SKLearn, fitting\n",
      "Time limit for a single run is higher than total time limit. Capping the limit for a single run to the total time given to SMAC (119.566588)\n",
      "[WARNING] [2019-02-24 16:26:53,668:AutoMLSMBO(1)::8f547c5269839d32e297676356d657f6] Could not find meta-data directory /home/jcui/.conda/envs/auto-sklearn/lib/python3.7/site-packages/autosklearn/metalearning/files/r2_regression_dense\n",
      "[WARNING] [2019-02-24 16:26:53,686:EnsembleBuilder(1):8f547c5269839d32e297676356d657f6] No models better than random - using Dummy Score!\n",
      "[WARNING] [2019-02-24 16:26:53,699:EnsembleBuilder(1):8f547c5269839d32e297676356d657f6] No models better than random - using Dummy Score!\n",
      "Auto-SKLearn, testing\n",
      "Auto-SKLearn, finished testing on set  4\n",
      "Current time Autosklearn score:  0.3084446698699487\n"
     ]
    }
   ],
   "source": [
    "# Add to this dataframe the performance results of the datasets that we query on\n",
    "df_rows_list = []\n",
    "for time_cap in times:\n",
    "    print('CURRENT TIME IS ', time_cap)\n",
    "        \n",
    "    for dataset in dataset_names:\n",
    "        curr_dataset_results = {}\n",
    "        print(\"Auto-SKLearn, on dataset \", dataset, \" | Number: \", str(dataset_props[dataset][3]), \"max of \", str(maxset))\n",
    "        print(\"Properties: \")\n",
    "        print(str(dataset_props[dataset]))\n",
    "        \n",
    "        # Split the data to training and test sets\n",
    "        X, y = fetch_data(dataset, return_X_y=True)\n",
    "        X_train, X_test, y_train, y_test = sklearn.model_selection.train_test_split(X, y, random_state=1)\n",
    "\n",
    "        # Run the classifier\n",
    "        automl = 0;\n",
    "        \n",
    "        if class_sets:\n",
    "            automl = autosklearn.classification.AutoSklearnClassifier(time_left_for_this_task = time_cap)\n",
    "        if regre_sets:\n",
    "            automl = autosklearn.regression.AutoSklearnRegressor(time_left_for_this_task = time_cap)                       \n",
    "            \n",
    "        print(\"Auto-SKLearn, fitting\")\n",
    "        automl.fit(X_train, y_train)\n",
    "        print(\"Auto-SKLearn, testing\")        \n",
    "        current_score = automl.score(X_test, y_test)                            \n",
    "        print(\"Auto-SKLearn, finished testing on set \", str(dataset_props[dataset][3]))\n",
    "        print(\"Current time Autosklearn score: \", str(current_score))\n",
    "              \n",
    "        # Store the result in a dictionary\n",
    "        curr_dataset_results['name'] = dataset\n",
    "        curr_dataset_results['number'] = dataset_props[dataset][3]\n",
    "        curr_dataset_results['num_instances'] = dataset_props[dataset][0]\n",
    "        curr_dataset_results['num_features'] = dataset_props[dataset][1]\n",
    "        curr_dataset_results['num_classes'] = dataset_props[dataset][2]\n",
    "        curr_dataset_results['time_cap'] = time_cap\n",
    "        curr_dataset_results['score'] = current_score\n",
    "              \n",
    "        # Append current dictionary to a list of dictionary\n",
    "        df_rows_list.append(curr_dataset_results)                   \n",
    "        \n",
    "\n",
    "\n"
   ]
  },
  {
   "cell_type": "code",
   "execution_count": 35,
   "metadata": {
    "collapsed": true
   },
   "outputs": [],
   "source": [
    "autosklearn_df = pd.DataFrame(df_rows_list)"
   ]
  },
  {
   "cell_type": "code",
   "execution_count": 36,
   "metadata": {},
   "outputs": [
    {
     "data": {
      "text/html": [
       "<div>\n",
       "<style scoped>\n",
       "    .dataframe tbody tr th:only-of-type {\n",
       "        vertical-align: middle;\n",
       "    }\n",
       "\n",
       "    .dataframe tbody tr th {\n",
       "        vertical-align: top;\n",
       "    }\n",
       "\n",
       "    .dataframe thead th {\n",
       "        text-align: right;\n",
       "    }\n",
       "</style>\n",
       "<table border=\"1\" class=\"dataframe\">\n",
       "  <thead>\n",
       "    <tr style=\"text-align: right;\">\n",
       "      <th></th>\n",
       "      <th>name</th>\n",
       "      <th>num_classes</th>\n",
       "      <th>num_features</th>\n",
       "      <th>num_instances</th>\n",
       "      <th>number</th>\n",
       "      <th>score</th>\n",
       "      <th>time_cap</th>\n",
       "    </tr>\n",
       "  </thead>\n",
       "  <tbody>\n",
       "    <tr>\n",
       "      <th>0</th>\n",
       "      <td>1029_LEV</td>\n",
       "      <td>-1</td>\n",
       "      <td>4</td>\n",
       "      <td>1000</td>\n",
       "      <td>3</td>\n",
       "      <td>0.574107</td>\n",
       "      <td>80</td>\n",
       "    </tr>\n",
       "    <tr>\n",
       "      <th>1</th>\n",
       "      <td>1030_ERA</td>\n",
       "      <td>-1</td>\n",
       "      <td>4</td>\n",
       "      <td>1000</td>\n",
       "      <td>4</td>\n",
       "      <td>0.307437</td>\n",
       "      <td>80</td>\n",
       "    </tr>\n",
       "    <tr>\n",
       "      <th>2</th>\n",
       "      <td>1029_LEV</td>\n",
       "      <td>-1</td>\n",
       "      <td>4</td>\n",
       "      <td>1000</td>\n",
       "      <td>3</td>\n",
       "      <td>0.576068</td>\n",
       "      <td>120</td>\n",
       "    </tr>\n",
       "    <tr>\n",
       "      <th>3</th>\n",
       "      <td>1030_ERA</td>\n",
       "      <td>-1</td>\n",
       "      <td>4</td>\n",
       "      <td>1000</td>\n",
       "      <td>4</td>\n",
       "      <td>0.308445</td>\n",
       "      <td>120</td>\n",
       "    </tr>\n",
       "  </tbody>\n",
       "</table>\n",
       "</div>"
      ],
      "text/plain": [
       "       name  num_classes  num_features  num_instances  number     score  \\\n",
       "0  1029_LEV           -1             4           1000       3  0.574107   \n",
       "1  1030_ERA           -1             4           1000       4  0.307437   \n",
       "2  1029_LEV           -1             4           1000       3  0.576068   \n",
       "3  1030_ERA           -1             4           1000       4  0.308445   \n",
       "\n",
       "   time_cap  \n",
       "0        80  \n",
       "1        80  \n",
       "2       120  \n",
       "3       120  "
      ]
     },
     "execution_count": 36,
     "metadata": {},
     "output_type": "execute_result"
    }
   ],
   "source": [
    "autosklearn_df"
   ]
  },
  {
   "cell_type": "code",
   "execution_count": 67,
   "metadata": {},
   "outputs": [
    {
     "name": "stdout",
     "output_type": "stream",
     "text": [
      "saving to  c_2_4_times_100_200.csv\n"
     ]
    }
   ],
   "source": [
    "# Save results into a CSV\n",
    "set_type_string = 'c' if class_sets else 'r'\n",
    "\n",
    "times_string = ''\n",
    "\n",
    "for i in range(len(times)):\n",
    "    times_string += str(times[i])\n",
    "    if i != len(times) - 1:\n",
    "        times_string += '_'\n",
    "\n",
    "file_name = set_type_string + '_' + str(minset) + '_' + str(maxset) + '_' + 'times' + '_' + times_string + '.csv'\n",
    "print('saving to ', file_name)\n",
    "\n",
    "autosklearn_df.to_csv(file_name, sep='\\t')"
   ]
  },
  {
   "cell_type": "code",
   "execution_count": null,
   "metadata": {
    "collapsed": true
   },
   "outputs": [],
   "source": []
  }
 ],
 "metadata": {
  "kernelspec": {
   "display_name": "Python [conda env:auto-sklearn]",
   "language": "python",
   "name": "conda-env-auto-sklearn-py"
  },
  "language_info": {
   "codemirror_mode": {
    "name": "ipython",
    "version": 3
   },
   "file_extension": ".py",
   "mimetype": "text/x-python",
   "name": "python",
   "nbconvert_exporter": "python",
   "pygments_lexer": "ipython3",
   "version": "3.7.1"
  }
 },
 "nbformat": 4,
 "nbformat_minor": 1
}
