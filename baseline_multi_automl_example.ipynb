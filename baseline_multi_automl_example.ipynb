{
 "cells": [
  {
   "cell_type": "code",
   "execution_count": 1,
   "metadata": {},
   "outputs": [
    {
     "name": "stderr",
     "output_type": "stream",
     "text": [
      "/home/jcui/.conda/envs/auto-sklearn/lib/python3.7/site-packages/sklearn/feature_extraction/text.py:17: DeprecationWarning: Using or importing the ABCs from 'collections' instead of from 'collections.abc' is deprecated, and in 3.8 it will stop working\n",
      "  from collections import Mapping, defaultdict\n",
      "/home/jcui/.conda/envs/auto-sklearn/lib/python3.7/site-packages/pyparsing.py:2910: FutureWarning: Possible set intersection at position 3\n",
      "  self.re = re.compile( self.reString )\n"
     ]
    }
   ],
   "source": [
    "import numpy as np\n",
    "import sklearn.model_selection\n",
    "from sklearn import datasets\n",
    "import sklearn.metrics\n",
    "import shutil\n",
    "import autosklearn.classification\n",
    "import autosklearn.regression\n",
    "import pickle\n",
    "import sys\n",
    "\n",
    "import warnings\n",
    "warnings.filterwarnings(\"ignore\")"
   ]
  },
  {
   "cell_type": "markdown",
   "metadata": {},
   "source": [
    "### Import your dataset"
   ]
  },
  {
   "cell_type": "code",
   "execution_count": 2,
   "metadata": {
    "collapsed": true
   },
   "outputs": [],
   "source": [
    "from pmlb import fetch_data\n",
    "\n",
    "# Returns NumPy arrays\n",
    "X, y = fetch_data('adult', return_X_y=True, local_cache_dir='./')\n",
    "X_train, X_test, y_train, y_test = sklearn.model_selection.train_test_split(X, y, random_state=1)\n",
    "groups = np.array([0, 1, 2, 1, 1, 3, 1, 3, 0, 0, 1, 1, 1, 0])"
   ]
  },
  {
   "cell_type": "markdown",
   "metadata": {},
   "source": [
    "### Import the baseline multi-autosklearn library"
   ]
  },
  {
   "cell_type": "code",
   "execution_count": 3,
   "metadata": {
    "collapsed": true
   },
   "outputs": [],
   "source": [
    "from baseline_multiautosklearn import base_multi_automl"
   ]
  },
  {
   "cell_type": "markdown",
   "metadata": {},
   "source": [
    "### Training the model"
   ]
  },
  {
   "cell_type": "code",
   "execution_count": 12,
   "metadata": {},
   "outputs": [
    {
     "name": "stdout",
     "output_type": "stream",
     "text": [
      "CREATING GROUPS\n",
      "Group Num is 0.\n",
      "Group Num is 1.\n",
      "Group Num is 2.\n",
      "Group Num is 3.\n",
      "TRAINING AUTOML ON GROUPS\n",
      "GROUP NUM  0\n",
      "[WARNING] [2019-04-14 21:57:12,117:EnsembleBuilder(1):16878d78c262aa5f260b41cff9e147de] No models better than random - using Dummy Score!\n",
      "[WARNING] [2019-04-14 21:57:12,130:EnsembleBuilder(1):16878d78c262aa5f260b41cff9e147de] No models better than random - using Dummy Score!\n",
      "[WARNING] [2019-04-14 21:57:12,573:smac.intensification.intensification.Intensifier] Challenger was the same as the current incumbent; Skipping challenger\n",
      "[WARNING] [2019-04-14 21:57:12,573:smac.intensification.intensification.Intensifier] Challenger was the same as the current incumbent; Skipping challenger\n",
      "[WARNING] [2019-04-14 21:57:14,134:EnsembleBuilder(1):16878d78c262aa5f260b41cff9e147de] No models better than random - using Dummy Score!\n",
      "[21:58:24] /workspace/src/gbm/gbtree.cc:492: drop 1 trees, weight = 1\n",
      "[21:58:24] /workspace/src/gbm/gbtree.cc:492: drop 1 trees, weight = 1\n",
      "[21:58:24] /workspace/src/gbm/gbtree.cc:492: drop 0 trees, weight = 1\n",
      "[21:58:24] /workspace/src/gbm/gbtree.cc:492: drop 0 trees, weight = 1\n",
      "[21:58:24] /workspace/src/gbm/gbtree.cc:492: drop 0 trees, weight = 1\n",
      "[21:58:24] /workspace/src/gbm/gbtree.cc:492: drop 0 trees, weight = 1\n",
      "[21:58:55] /workspace/src/gbm/gbtree.cc:492: drop 0 trees, weight = 1\n",
      "[21:58:55] /workspace/src/gbm/gbtree.cc:492: drop 0 trees, weight = 1\n",
      "GROUP NUM  1\n",
      "[WARNING] [2019-04-14 22:02:08,254:EnsembleBuilder(1):584601c94f6dd94d45f599676e3bc094] No models better than random - using Dummy Score!\n",
      "[WARNING] [2019-04-14 22:02:08,265:EnsembleBuilder(1):584601c94f6dd94d45f599676e3bc094] No models better than random - using Dummy Score!\n",
      "[WARNING] [2019-04-14 22:02:08,755:smac.intensification.intensification.Intensifier] Challenger was the same as the current incumbent; Skipping challenger\n",
      "[WARNING] [2019-04-14 22:02:08,755:smac.intensification.intensification.Intensifier] Challenger was the same as the current incumbent; Skipping challenger\n",
      "[WARNING] [2019-04-14 22:02:10,269:EnsembleBuilder(1):584601c94f6dd94d45f599676e3bc094] No models better than random - using Dummy Score!\n",
      "GROUP NUM  2\n",
      "[WARNING] [2019-04-14 22:07:03,495:EnsembleBuilder(1):54b2af14a5b0771e9f3cc58bd9d4286f] No models better than random - using Dummy Score!\n",
      "[WARNING] [2019-04-14 22:07:03,508:EnsembleBuilder(1):54b2af14a5b0771e9f3cc58bd9d4286f] No models better than random - using Dummy Score!\n",
      "[WARNING] [2019-04-14 22:07:04,044:smac.intensification.intensification.Intensifier] Challenger was the same as the current incumbent; Skipping challenger\n",
      "[WARNING] [2019-04-14 22:07:04,044:smac.intensification.intensification.Intensifier] Challenger was the same as the current incumbent; Skipping challenger\n",
      "[WARNING] [2019-04-14 22:07:05,512:EnsembleBuilder(1):54b2af14a5b0771e9f3cc58bd9d4286f] No models better than random - using Dummy Score!\n",
      "[WARNING] [2019-04-14 22:07:07,517:EnsembleBuilder(1):54b2af14a5b0771e9f3cc58bd9d4286f] No models better than random - using Dummy Score!\n",
      "[WARNING] [2019-04-14 22:07:09,522:EnsembleBuilder(1):54b2af14a5b0771e9f3cc58bd9d4286f] No models better than random - using Dummy Score!\n",
      "GROUP NUM  3\n",
      "[WARNING] [2019-04-14 22:11:59,538:EnsembleBuilder(1):6922a64cc691898cd95b7a7b19d7e638] No models better than random - using Dummy Score!\n",
      "[WARNING] [2019-04-14 22:11:59,551:EnsembleBuilder(1):6922a64cc691898cd95b7a7b19d7e638] No models better than random - using Dummy Score!\n",
      "[WARNING] [2019-04-14 22:12:00,009:smac.intensification.intensification.Intensifier] Challenger was the same as the current incumbent; Skipping challenger\n",
      "[WARNING] [2019-04-14 22:12:00,009:smac.intensification.intensification.Intensifier] Challenger was the same as the current incumbent; Skipping challenger\n",
      "RETRIEVING PREDICTIONS FOR EACH GROUP\n",
      "GROUP NUM  0\n",
      "GROUP NUM  1\n",
      "GROUP NUM  2\n",
      "GROUP NUM  3\n"
     ]
    }
   ],
   "source": [
    "model = base_multi_automl('classification')\n",
    "model.fit(X_train, y_train, groups, 300, 60)"
   ]
  },
  {
   "cell_type": "markdown",
   "metadata": {},
   "source": [
    "### Testing the model"
   ]
  },
  {
   "cell_type": "code",
   "execution_count": 15,
   "metadata": {},
   "outputs": [
    {
     "name": "stdout",
     "output_type": "stream",
     "text": [
      "CREATING GROUPS\n",
      "Group Num is 0.\n",
      "Group Num is 1.\n",
      "Group Num is 2.\n",
      "Group Num is 3.\n",
      "RETRIEVING PREDICTIONS FOR EACH GROUP\n",
      "GROUP NUM  0\n",
      "GROUP NUM  1\n",
      "GROUP NUM  2\n",
      "GROUP NUM  3\n"
     ]
    }
   ],
   "source": [
    "y_pred = model.predict(X_test, groups, 0)"
   ]
  },
  {
   "cell_type": "code",
   "execution_count": 16,
   "metadata": {},
   "outputs": [
    {
     "data": {
      "text/plain": [
       "0.8429285070837769"
      ]
     },
     "execution_count": 16,
     "metadata": {},
     "output_type": "execute_result"
    }
   ],
   "source": [
    "sklearn.metrics.accuracy_score(y_pred, y_test)"
   ]
  },
  {
   "cell_type": "code",
   "execution_count": null,
   "metadata": {
    "collapsed": true
   },
   "outputs": [],
   "source": []
  }
 ],
 "metadata": {
  "kernelspec": {
   "display_name": "Python [conda env:auto-sklearn]",
   "language": "python",
   "name": "conda-env-auto-sklearn-py"
  },
  "language_info": {
   "codemirror_mode": {
    "name": "ipython",
    "version": 3
   },
   "file_extension": ".py",
   "mimetype": "text/x-python",
   "name": "python",
   "nbconvert_exporter": "python",
   "pygments_lexer": "ipython3",
   "version": "3.7.1"
  }
 },
 "nbformat": 4,
 "nbformat_minor": 1
}
