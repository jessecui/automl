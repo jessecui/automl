{
 "cells": [
  {
   "cell_type": "markdown",
   "metadata": {},
   "source": [
    "### This notebook smooths out the curves and identfies a plateau point in performance over time for each dataset"
   ]
  },
  {
   "cell_type": "code",
   "execution_count": 1,
   "metadata": {
    "collapsed": true
   },
   "outputs": [],
   "source": [
    "import pandas as pd\n",
    "import matplotlib.pyplot as plt\n",
    "import numpy as np\n",
    "import sys"
   ]
  },
  {
   "cell_type": "code",
   "execution_count": 632,
   "metadata": {
    "collapsed": true
   },
   "outputs": [],
   "source": [
    "# Indicate data type and number\n",
    "data_type = 'c'\n",
    "number = 3"
   ]
  },
  {
   "cell_type": "code",
   "execution_count": 633,
   "metadata": {},
   "outputs": [
    {
     "name": "stdout",
     "output_type": "stream",
     "text": [
      "Data size:  2.368471 MB\n",
      "Number of features p:  20\n",
      "Number of instance n:  1600\n"
     ]
    }
   ],
   "source": [
    "# Retrieve metrics for the queried dataset\n",
    "data = pd.read_csv(\"PMLB_benchmark_results/\" + data_type + str(number) + \"_maxtime14400_interval300.csv\", sep = '\\t')\n",
    "print('Data size: ', str(sys.getsizeof(data)/1000000), 'MB')\n",
    "print('Number of features p: ', data.loc[0, 'num_features'])\n",
    "print('Number of instance n: ', data.loc[0, 'num_instances'])\n",
    "score_metric = 'accuracy' if data_type == 'c' else 'mean_squared_error' # Pulls test accuracy/MSE\n",
    "\n",
    "times = data['time_stamp'].tolist()\n",
    "performance = data[score_metric].tolist()"
   ]
  },
  {
   "cell_type": "code",
   "execution_count": 634,
   "metadata": {},
   "outputs": [],
   "source": [
    "# We will smooth our performance metric over time with a Satvitzky-Golay filter\n",
    "from scipy.signal import savgol_filter\n",
    "perf_smoothed = savgol_filter(performance, 15, 3) # window size 51, polynomial order 3"
   ]
  },
  {
   "cell_type": "code",
   "execution_count": 644,
   "metadata": {},
   "outputs": [
    {
     "data": {
      "text/plain": [
       "[<matplotlib.lines.Line2D at 0x7f8b84cf8c18>]"
      ]
     },
     "execution_count": 644,
     "metadata": {},
     "output_type": "execute_result"
    },
    {
     "data": {
      "image/png": "[encoded data removed]",
      "text/plain": [
       "<Figure size 432x288 with 1 Axes>"
      ]
     },
     "metadata": {
      "needs_background": "light"
     },
     "output_type": "display_data"
    }
   ],
   "source": [
    "# Graph performance both raw and smoothed\n",
    "plt.xlabel('Time in seconds')\n",
    "plt.ylabel(score_metric)\n",
    "axes = plt.gca()\n",
    "if data_type == 'c':\n",
    "    axes.set_xlim([0,15000])\n",
    "    axes.set_ylim([0,1])\n",
    "plt.plot(times, performance)\n",
    "plt.plot(times, perf_smoothed)"
   ]
  },
  {
   "cell_type": "code",
   "execution_count": 645,
   "metadata": {},
   "outputs": [
    {
     "data": {
      "text/plain": [
       "array([0.77543709, 0.77632295, 0.77722281, 0.77812316, 0.7790105 ,\n",
       "       0.7798713 , 0.78069207, 0.78145928, 0.78186199, 0.78241403,\n",
       "       0.7834095 , 0.7836267 , 0.7838733 , 0.78410407, 0.78377376,\n",
       "       0.78370588, 0.78354751, 0.78295249, 0.78276697, 0.78266063,\n",
       "       0.78265611, 0.78277602, 0.78269683, 0.78259502, 0.78247059,\n",
       "       0.78232353, 0.7825    , 0.7825    , 0.7825    , 0.7825    ,\n",
       "       0.7825    , 0.7825    , 0.7825    , 0.7825    , 0.7825    ,\n",
       "       0.7825    , 0.7825    , 0.7825    , 0.7825    , 0.7825    ,\n",
       "       0.7825    , 0.7825    , 0.7825    , 0.7825    , 0.7825    ,\n",
       "       0.7825    , 0.7825    , 0.7825    , 0.7825    ])"
      ]
     },
     "execution_count": 645,
     "metadata": {},
     "output_type": "execute_result"
    }
   ],
   "source": [
    "perf_smoothed"
   ]
  },
  {
   "cell_type": "code",
   "execution_count": 646,
   "metadata": {},
   "outputs": [
    {
     "data": {
      "text/plain": [
       "[0.7725,\n",
       " 0.7775,\n",
       " 0.7825,\n",
       " 0.7775,\n",
       " 0.7775,\n",
       " 0.78,\n",
       " 0.7775,\n",
       " 0.7825,\n",
       " 0.7825,\n",
       " 0.78,\n",
       " 0.785,\n",
       " 0.785,\n",
       " 0.785,\n",
       " 0.785,\n",
       " 0.7825,\n",
       " 0.7825,\n",
       " 0.7825,\n",
       " 0.7825,\n",
       " 0.785,\n",
       " 0.7825,\n",
       " 0.7825,\n",
       " 0.7825,\n",
       " 0.7825,\n",
       " 0.7825,\n",
       " 0.7825,\n",
       " 0.7825,\n",
       " 0.7825,\n",
       " 0.7825,\n",
       " 0.7825,\n",
       " 0.7825,\n",
       " 0.7825,\n",
       " 0.7825,\n",
       " 0.7825,\n",
       " 0.7825,\n",
       " 0.7825,\n",
       " 0.7825,\n",
       " 0.7825,\n",
       " 0.7825,\n",
       " 0.7825,\n",
       " 0.7825,\n",
       " 0.7825,\n",
       " 0.7825,\n",
       " 0.7825,\n",
       " 0.7825,\n",
       " 0.7825,\n",
       " 0.7825,\n",
       " 0.7825,\n",
       " 0.7825,\n",
       " 0.7825]"
      ]
     },
     "execution_count": 646,
     "metadata": {},
     "output_type": "execute_result"
    }
   ],
   "source": [
    "performance"
   ]
  },
  {
   "cell_type": "markdown",
   "metadata": {},
   "source": [
    "## Now we will analyze the plateau points by stepping back from the max on our smoothed graph until we reach a steep enough slope above epsilon"
   ]
  },
  {
   "cell_type": "code",
   "execution_count": 647,
   "metadata": {},
   "outputs": [],
   "source": [
    "max_index = np.argmax(perf_smoothed)\n",
    "max_value = perf_smoothed[max_index]\n",
    "time_at_max = (max_index+1) * 300"
   ]
  },
  {
   "cell_type": "code",
   "execution_count": 648,
   "metadata": {
    "collapsed": true
   },
   "outputs": [],
   "source": [
    "data_range = np.amax(perf_smoothed) - np.amin(perf_smoothed)\n",
    "if data_type == 'c':\n",
    "    slope_epsilon = 0.001 # Minimum significant slope steepness (slope = performance gain in 5 minutes)\n",
    "else:\n",
    "    slope_epsilon = 0.001 * np.average(perf_smoothed)"
   ]
  },
  {
   "cell_type": "code",
   "execution_count": 649,
   "metadata": {},
   "outputs": [],
   "source": [
    "# Determine the plateau cutoff point\n",
    "curr_index = max_index - 1\n",
    "prev_index = max_index\n",
    "while(curr_index >= 0):\n",
    "    if perf_smoothed[prev_index] - perf_smoothed[curr_index] < slope_epsilon:\n",
    "        prev_index -= 1\n",
    "        curr_index -= 1\n",
    "    else:\n",
    "        break\n",
    "cutoff_index = prev_index\n",
    "cutoff_time = (cutoff_index+1) * 300\n",
    "    "
   ]
  },
  {
   "cell_type": "code",
   "execution_count": 668,
   "metadata": {},
   "outputs": [],
   "source": [
    "# This function does the above (we will use this to get cutoff for all data)\n",
    "def getPlateau(number, data_type):\n",
    "    # Retrieve metrics for the queried dataset\n",
    "    data = pd.read_csv(\"PMLB_benchmark_results/\" + data_type + str(number) + \"_maxtime14400_interval300.csv\", sep = '\\t')\n",
    "    print('Data size: ', str(sys.getsizeof(data)/1000000), 'MB')\n",
    "    num_features = data.loc[0, 'num_features']\n",
    "    num_instances = data.loc[0, 'num_instances']\n",
    "    print('Number of features p: ', num_features)\n",
    "    print('Number of instance n: ', num_instances)\n",
    "    score_metric = 'accuracy' if data_type == 'c' else 'mean_squared_error'\n",
    "\n",
    "    times = data['time_stamp'].tolist()\n",
    "    performance = data[score_metric].tolist()\n",
    "    \n",
    "    # Smooth the performance\n",
    "    perf_smoothed = savgol_filter(performance, 15, 3) # window size 51, polynomial order 3\n",
    "    \n",
    "    # Retrive max performance index\n",
    "    max_index = np.argmax(perf_smoothed)\n",
    "    max_value = perf_smoothed[max_index]\n",
    "    time_at_max = (max_index+1) * 300\n",
    "    data_range = np.amax(perf_smoothed) - np.amin(perf_smoothed)\n",
    "    \n",
    "    # Determine cutoff slope allowance\n",
    "    if data_type == 'c':\n",
    "        slope_epsilon = 0.001 # Minimum significant slope steepness (slope = performance gain in 5 minutes)\n",
    "    else:\n",
    "        slope_epsilon = 0.001 * np.average(perf_smoothed)\n",
    "        \n",
    "    # Determine the plateau cutoff point    \n",
    "    curr_index = max_index - 1\n",
    "    prev_index = max_index\n",
    "    while(curr_index >= 0):\n",
    "        if perf_smoothed[prev_index] - perf_smoothed[curr_index] < slope_epsilon:\n",
    "            prev_index -= 1\n",
    "            curr_index -= 1\n",
    "        else:\n",
    "            break\n",
    "    cutoff_index = prev_index\n",
    "    cutoff_time = (cutoff_index+1) * 300\n",
    "    \n",
    "    return cutoff_time, num_instances, num_features, data_type, number\n",
    "                "
   ]
  },
  {
   "cell_type": "code",
   "execution_count": 669,
   "metadata": {},
   "outputs": [
    {
     "name": "stdout",
     "output_type": "stream",
     "text": [
      "Data size:  1.001105 MB\n",
      "Number of features p:  1000\n",
      "Number of instance n:  1600\n"
     ]
    },
    {
     "data": {
      "text/plain": [
       "(8700, 1600, 1000, 'c', 1)"
      ]
     },
     "execution_count": 669,
     "metadata": {},
     "output_type": "execute_result"
    }
   ],
   "source": [
    "getPlateau(1, 'c')"
   ]
  },
  {
   "cell_type": "markdown",
   "metadata": {},
   "source": [
    "### Now we will pull the cutoff points for all dataset performances and plot them against n and p"
   ]
  },
  {
   "cell_type": "code",
   "execution_count": 670,
   "metadata": {},
   "outputs": [
    {
     "name": "stdout",
     "output_type": "stream",
     "text": [
      "Data size:  1.001105 MB\n",
      "Number of features p:  1000\n",
      "Number of instance n:  1600\n",
      "Data size:  0.908771 MB\n",
      "Number of features p:  20\n",
      "Number of instance n:  1600\n",
      "Data size:  2.368471 MB\n",
      "Number of features p:  20\n",
      "Number of instance n:  1600\n",
      "Data size:  1.137103 MB\n",
      "Number of features p:  20\n",
      "Number of instance n:  1600\n",
      "Data size:  1.203982 MB\n",
      "Number of features p:  20\n",
      "Number of instance n:  1600\n",
      "Data size:  1.233686 MB\n",
      "Number of features p:  20\n",
      "Number of instance n:  1600\n",
      "Data size:  1.54134 MB\n",
      "Number of features p:  100\n",
      "Number of instance n:  1212\n",
      "Data size:  1.981285 MB\n",
      "Number of features p:  100\n",
      "Number of instance n:  1212\n",
      "Data size:  0.706481 MB\n",
      "Number of features p:  14\n",
      "Number of instance n:  48842\n",
      "Data size:  2.341496 MB\n",
      "Number of features p:  22\n",
      "Number of instance n:  8145\n",
      "Data size:  0.553404 MB\n",
      "Number of features p:  29\n",
      "Number of instance n:  3772\n",
      "Data size:  0.717086 MB\n",
      "Number of features p:  29\n",
      "Number of instance n:  3771\n",
      "Data size:  0.835222 MB\n",
      "Number of features p:  29\n",
      "Number of instance n:  3770\n",
      "Data size:  0.795254 MB\n",
      "Number of features p:  29\n",
      "Number of instance n:  3772\n",
      "Data size:  2.559467 MB\n",
      "Number of features p:  4\n",
      "Number of instance n:  50\n",
      "Data size:  2.256579 MB\n",
      "Number of features p:  3\n",
      "Number of instance n:  83\n",
      "Data size:  1.638684 MB\n",
      "Number of features p:  70\n",
      "Number of instance n:  841\n",
      "Data size:  1.065499 MB\n",
      "Number of features p:  6\n",
      "Number of instance n:  50\n",
      "Data size:  1.204401 MB\n",
      "Number of features p:  3\n",
      "Number of instance n:  120\n",
      "Data size:  1.118693 MB\n",
      "Number of features p:  3\n",
      "Number of instance n:  132\n",
      "Data size:  0.559136 MB\n",
      "Number of features p:  6\n",
      "Number of instance n:  100\n",
      "Data size:  0.230301 MB\n",
      "Number of features p:  10\n",
      "Number of instance n:  97\n",
      "Data size:  0.267459 MB\n",
      "Number of features p:  10\n",
      "Number of instance n:  92\n",
      "Data size:  0.947021 MB\n",
      "Number of features p:  4\n",
      "Number of instance n:  797\n",
      "Data size:  1.023957 MB\n",
      "Number of features p:  11\n",
      "Number of instance n:  42\n",
      "Data size:  0.590366 MB\n",
      "Number of features p:  5\n",
      "Number of instance n:  400\n",
      "Data size:  1.348992 MB\n",
      "Number of features p:  3\n",
      "Number of instance n:  60\n",
      "Data size:  1.201703 MB\n",
      "Number of features p:  9\n",
      "Number of instance n:  52\n",
      "Data size:  0.669858 MB\n",
      "Number of features p:  4\n",
      "Number of instance n:  264\n",
      "Data size:  0.767789 MB\n",
      "Number of features p:  21\n",
      "Number of instance n:  7200\n",
      "Data size:  0.779178 MB\n",
      "Number of features p:  7\n",
      "Number of instance n:  106\n",
      "Data size:  0.739925 MB\n",
      "Number of features p:  14\n",
      "Number of instance n:  690\n",
      "Data size:  1.681317 MB\n",
      "Number of features p:  25\n",
      "Number of instance n:  202\n",
      "Data size:  0.145194 MB\n",
      "Number of features p:  32\n",
      "Number of instance n:  180\n",
      "Data size:  1.356143 MB\n",
      "Number of features p:  4\n",
      "Number of instance n:  625\n",
      "Data size:  0.373569 MB\n",
      "Number of features p:  2\n",
      "Number of instance n:  5300\n",
      "Data size:  1.21189 MB\n",
      "Number of features p:  8\n",
      "Number of instance n:  209\n",
      "Data size:  2.174383 MB\n",
      "Number of features p:  10\n",
      "Number of instance n:  699\n",
      "Data size:  0.626197 MB\n",
      "Number of features p:  9\n",
      "Number of instance n:  286\n",
      "Data size:  1.494338 MB\n",
      "Number of features p:  30\n",
      "Number of instance n:  569\n",
      "Data size:  2.383177 MB\n",
      "Number of features p:  9\n",
      "Number of instance n:  699\n",
      "Data size:  0.823588 MB\n",
      "Number of features p:  15\n",
      "Number of instance n:  690\n",
      "Data size:  1.670579 MB\n",
      "Number of features p:  6\n",
      "Number of instance n:  345\n",
      "Data size:  0.944933 MB\n",
      "Number of features p:  32\n",
      "Number of instance n:  399\n",
      "Data size:  1.506777 MB\n",
      "Number of features p:  6\n",
      "Number of instance n:  1728\n",
      "Data size:  1.046268 MB\n",
      "Number of features p:  21\n",
      "Number of instance n:  1728\n",
      "Data size:  2.213234 MB\n",
      "Number of features p:  8\n",
      "Number of instance n:  392\n",
      "Data size:  2.217421 MB\n",
      "Number of features p:  7\n",
      "Number of instance n:  392\n",
      "Data size:  0.882427 MB\n",
      "Number of features p:  36\n",
      "Number of instance n:  3196\n",
      "Data size:  1.322834 MB\n",
      "Number of features p:  20\n",
      "Number of instance n:  5000\n",
      "Data size:  0.347388 MB\n",
      "Number of features p:  4\n",
      "Number of instance n:  488\n",
      "Data size:  0.39246 MB\n",
      "Number of features p:  10\n",
      "Number of instance n:  1000\n",
      "Data size:  0.443958 MB\n",
      "Number of features p:  4\n",
      "Number of instance n:  1000\n",
      "Data size:  0.286694 MB\n",
      "Number of features p:  4\n",
      "Number of instance n:  1000\n",
      "Data size:  0.223204 MB\n",
      "Number of features p:  13\n",
      "Number of instance n:  47\n",
      "Data size:  0.209879 MB\n",
      "Number of features p:  4\n",
      "Number of instance n:  50\n",
      "Data size:  0.533738 MB\n",
      "Number of features p:  9\n",
      "Number of instance n:  31104\n",
      "Data size:  0.454545 MB\n",
      "Number of features p:  9\n",
      "Number of instance n:  17496\n",
      "Data size:  0.322705 MB\n",
      "Number of features p:  9\n",
      "Number of instance n:  116640\n",
      "Data size:  0.29348 MB\n",
      "Number of features p:  10\n",
      "Number of instance n:  177147\n",
      "Data size:  0.24583 MB\n",
      "Number of features p:  2\n",
      "Number of instance n:  52\n",
      "Data size:  0.272716 MB\n",
      "Number of features p:  15\n",
      "Number of instance n:  159\n",
      "Data size:  0.592328 MB\n",
      "Number of features p:  21\n",
      "Number of instance n:  8192\n",
      "Data size:  0.371044 MB\n",
      "Number of features p:  48\n",
      "Number of instance n:  15000\n",
      "Data size:  0.255968 MB\n",
      "Number of features p:  15\n",
      "Number of instance n:  159\n",
      "Data size:  0.191693 MB\n",
      "Number of features p:  5\n",
      "Number of instance n:  108\n",
      "Data size:  0.365214 MB\n",
      "Number of features p:  10\n",
      "Number of instance n:  40768\n",
      "Data size:  0.405351 MB\n",
      "Number of features p:  8\n",
      "Number of instance n:  22784\n",
      "Data size:  0.508748 MB\n",
      "Number of features p:  8\n",
      "Number of instance n:  8192\n",
      "Data size:  0.397853 MB\n",
      "Number of features p:  12\n",
      "Number of instance n:  8192\n",
      "Data size:  0.299897 MB\n",
      "Number of features p:  2\n",
      "Number of instance n:  55\n",
      "Data size:  0.290209 MB\n",
      "Number of features p:  10\n",
      "Number of instance n:  200\n",
      "Data size:  0.31448 MB\n",
      "Number of features p:  6\n",
      "Number of instance n:  209\n",
      "Data size:  0.471371 MB\n",
      "Number of features p:  36\n",
      "Number of instance n:  6435\n",
      "Data size:  0.428749 MB\n",
      "Number of features p:  10\n",
      "Number of instance n:  40768\n",
      "Data size:  0.497862 MB\n",
      "Number of features p:  117\n",
      "Number of instance n:  1059\n",
      "Data size:  0.438102 MB\n",
      "Number of features p:  4\n",
      "Number of instance n:  48\n",
      "Data size:  0.498385 MB\n",
      "Number of features p:  14\n",
      "Number of instance n:  6574\n",
      "Data size:  0.535894 MB\n",
      "Number of features p:  124\n",
      "Number of instance n:  240\n",
      "Data size:  0.345915 MB\n",
      "Number of features p:  2\n",
      "Number of instance n:  380\n",
      "Data size:  0.569886 MB\n",
      "Number of features p:  7\n",
      "Number of instance n:  500\n",
      "Data size:  0.224801 MB\n",
      "Number of features p:  2\n",
      "Number of instance n:  100\n",
      "Data size:  0.329653 MB\n",
      "Number of features p:  14\n",
      "Number of instance n:  67\n",
      "Data size:  0.255171 MB\n",
      "Number of features p:  4\n",
      "Number of instance n:  3848\n",
      "Data size:  0.391347 MB\n",
      "Number of features p:  8\n",
      "Number of instance n:  20640\n",
      "Data size:  0.378525 MB\n",
      "Number of features p:  15\n",
      "Number of instance n:  60\n",
      "Data size:  0.505775 MB\n",
      "Number of features p:  7\n",
      "Number of instance n:  500\n",
      "Data size:  0.152471 MB\n",
      "Number of features p:  3\n",
      "Number of instance n:  475\n",
      "Data size:  0.145409 MB\n",
      "Number of features p:  3\n",
      "Number of instance n:  475\n",
      "Data size:  0.322774 MB\n",
      "Number of features p:  14\n",
      "Number of instance n:  252\n",
      "Data size:  0.439265 MB\n",
      "Number of features p:  7\n",
      "Number of instance n:  209\n",
      "Data size:  0.593307 MB\n",
      "Number of features p:  12\n",
      "Number of instance n:  8192\n",
      "Data size:  0.437059 MB\n",
      "Number of features p:  10\n",
      "Number of instance n:  40768\n",
      "Data size:  0.551804 MB\n",
      "Number of features p:  21\n",
      "Number of instance n:  8192\n",
      "Data size:  0.293756 MB\n",
      "Number of features p:  16\n",
      "Number of instance n:  22784\n",
      "Data size:  0.144019 MB\n",
      "Number of features p:  5\n",
      "Number of instance n:  250\n",
      "Data size:  0.109424 MB\n",
      "Number of features p:  25\n",
      "Number of instance n:  500\n"
     ]
    }
   ],
   "source": [
    "plateau_list = []\n",
    "data_types = ['c', 'r']\n",
    "for data_type in data_types:\n",
    "    for number in range(51):        \n",
    "        try:\n",
    "            plateau_metrics = getPlateau(number, data_type)\n",
    "            plateau_list.append(plateau_metrics)\n",
    "        except:\n",
    "            pass\n",
    "        "
   ]
  },
  {
   "cell_type": "code",
   "execution_count": 696,
   "metadata": {},
   "outputs": [],
   "source": [
    "optimal_train_time_df = pd.DataFrame(plateau_list, columns=['plateau_time', 'num_instances', 'num_features', 'data_type', 'number'])"
   ]
  },
  {
   "cell_type": "code",
   "execution_count": 704,
   "metadata": {},
   "outputs": [],
   "source": [
    "c_opt_train_time_df = optimal_train_time_df.loc[optimal_train_time_df['data_type'] == 'c'].drop(columns=['data_type', 'number']).astype('float')\n",
    "r_opt_train_time_df = optimal_train_time_df.loc[optimal_train_time_df['data_type'] == 'r'].drop(columns=['data_type', 'number']).astype('float')"
   ]
  },
  {
   "cell_type": "code",
   "execution_count": 705,
   "metadata": {},
   "outputs": [
    {
     "data": {
      "text/html": [
       "<div>\n",
       "<style scoped>\n",
       "    .dataframe tbody tr th:only-of-type {\n",
       "        vertical-align: middle;\n",
       "    }\n",
       "\n",
       "    .dataframe tbody tr th {\n",
       "        vertical-align: top;\n",
       "    }\n",
       "\n",
       "    .dataframe thead th {\n",
       "        text-align: right;\n",
       "    }\n",
       "</style>\n",
       "<table border=\"1\" class=\"dataframe\">\n",
       "  <thead>\n",
       "    <tr style=\"text-align: right;\">\n",
       "      <th></th>\n",
       "      <th>plateau_time</th>\n",
       "      <th>num_instances</th>\n",
       "      <th>num_features</th>\n",
       "    </tr>\n",
       "  </thead>\n",
       "  <tbody>\n",
       "    <tr>\n",
       "      <th>0</th>\n",
       "      <td>8700.0</td>\n",
       "      <td>1600.0</td>\n",
       "      <td>1000.0</td>\n",
       "    </tr>\n",
       "    <tr>\n",
       "      <th>1</th>\n",
       "      <td>7200.0</td>\n",
       "      <td>1600.0</td>\n",
       "      <td>20.0</td>\n",
       "    </tr>\n",
       "    <tr>\n",
       "      <th>2</th>\n",
       "      <td>300.0</td>\n",
       "      <td>1600.0</td>\n",
       "      <td>20.0</td>\n",
       "    </tr>\n",
       "    <tr>\n",
       "      <th>3</th>\n",
       "      <td>12900.0</td>\n",
       "      <td>1600.0</td>\n",
       "      <td>20.0</td>\n",
       "    </tr>\n",
       "    <tr>\n",
       "      <th>4</th>\n",
       "      <td>13800.0</td>\n",
       "      <td>1600.0</td>\n",
       "      <td>20.0</td>\n",
       "    </tr>\n",
       "    <tr>\n",
       "      <th>5</th>\n",
       "      <td>9900.0</td>\n",
       "      <td>1600.0</td>\n",
       "      <td>20.0</td>\n",
       "    </tr>\n",
       "    <tr>\n",
       "      <th>6</th>\n",
       "      <td>2100.0</td>\n",
       "      <td>1212.0</td>\n",
       "      <td>100.0</td>\n",
       "    </tr>\n",
       "    <tr>\n",
       "      <th>7</th>\n",
       "      <td>1800.0</td>\n",
       "      <td>1212.0</td>\n",
       "      <td>100.0</td>\n",
       "    </tr>\n",
       "    <tr>\n",
       "      <th>8</th>\n",
       "      <td>300.0</td>\n",
       "      <td>48842.0</td>\n",
       "      <td>14.0</td>\n",
       "    </tr>\n",
       "    <tr>\n",
       "      <th>9</th>\n",
       "      <td>300.0</td>\n",
       "      <td>8145.0</td>\n",
       "      <td>22.0</td>\n",
       "    </tr>\n",
       "    <tr>\n",
       "      <th>10</th>\n",
       "      <td>300.0</td>\n",
       "      <td>3772.0</td>\n",
       "      <td>29.0</td>\n",
       "    </tr>\n",
       "    <tr>\n",
       "      <th>11</th>\n",
       "      <td>300.0</td>\n",
       "      <td>3771.0</td>\n",
       "      <td>29.0</td>\n",
       "    </tr>\n",
       "    <tr>\n",
       "      <th>12</th>\n",
       "      <td>300.0</td>\n",
       "      <td>3770.0</td>\n",
       "      <td>29.0</td>\n",
       "    </tr>\n",
       "    <tr>\n",
       "      <th>13</th>\n",
       "      <td>300.0</td>\n",
       "      <td>3772.0</td>\n",
       "      <td>29.0</td>\n",
       "    </tr>\n",
       "    <tr>\n",
       "      <th>14</th>\n",
       "      <td>300.0</td>\n",
       "      <td>50.0</td>\n",
       "      <td>4.0</td>\n",
       "    </tr>\n",
       "    <tr>\n",
       "      <th>15</th>\n",
       "      <td>3300.0</td>\n",
       "      <td>83.0</td>\n",
       "      <td>3.0</td>\n",
       "    </tr>\n",
       "    <tr>\n",
       "      <th>16</th>\n",
       "      <td>1200.0</td>\n",
       "      <td>841.0</td>\n",
       "      <td>70.0</td>\n",
       "    </tr>\n",
       "    <tr>\n",
       "      <th>17</th>\n",
       "      <td>2100.0</td>\n",
       "      <td>50.0</td>\n",
       "      <td>6.0</td>\n",
       "    </tr>\n",
       "    <tr>\n",
       "      <th>18</th>\n",
       "      <td>300.0</td>\n",
       "      <td>120.0</td>\n",
       "      <td>3.0</td>\n",
       "    </tr>\n",
       "    <tr>\n",
       "      <th>19</th>\n",
       "      <td>300.0</td>\n",
       "      <td>132.0</td>\n",
       "      <td>3.0</td>\n",
       "    </tr>\n",
       "    <tr>\n",
       "      <th>20</th>\n",
       "      <td>4200.0</td>\n",
       "      <td>100.0</td>\n",
       "      <td>6.0</td>\n",
       "    </tr>\n",
       "    <tr>\n",
       "      <th>21</th>\n",
       "      <td>300.0</td>\n",
       "      <td>97.0</td>\n",
       "      <td>10.0</td>\n",
       "    </tr>\n",
       "    <tr>\n",
       "      <th>22</th>\n",
       "      <td>300.0</td>\n",
       "      <td>92.0</td>\n",
       "      <td>10.0</td>\n",
       "    </tr>\n",
       "    <tr>\n",
       "      <th>23</th>\n",
       "      <td>1800.0</td>\n",
       "      <td>797.0</td>\n",
       "      <td>4.0</td>\n",
       "    </tr>\n",
       "    <tr>\n",
       "      <th>24</th>\n",
       "      <td>3900.0</td>\n",
       "      <td>42.0</td>\n",
       "      <td>11.0</td>\n",
       "    </tr>\n",
       "    <tr>\n",
       "      <th>25</th>\n",
       "      <td>8100.0</td>\n",
       "      <td>400.0</td>\n",
       "      <td>5.0</td>\n",
       "    </tr>\n",
       "    <tr>\n",
       "      <th>26</th>\n",
       "      <td>300.0</td>\n",
       "      <td>60.0</td>\n",
       "      <td>3.0</td>\n",
       "    </tr>\n",
       "    <tr>\n",
       "      <th>27</th>\n",
       "      <td>300.0</td>\n",
       "      <td>52.0</td>\n",
       "      <td>9.0</td>\n",
       "    </tr>\n",
       "    <tr>\n",
       "      <th>28</th>\n",
       "      <td>300.0</td>\n",
       "      <td>264.0</td>\n",
       "      <td>4.0</td>\n",
       "    </tr>\n",
       "    <tr>\n",
       "      <th>29</th>\n",
       "      <td>300.0</td>\n",
       "      <td>7200.0</td>\n",
       "      <td>21.0</td>\n",
       "    </tr>\n",
       "    <tr>\n",
       "      <th>30</th>\n",
       "      <td>300.0</td>\n",
       "      <td>106.0</td>\n",
       "      <td>7.0</td>\n",
       "    </tr>\n",
       "    <tr>\n",
       "      <th>31</th>\n",
       "      <td>300.0</td>\n",
       "      <td>690.0</td>\n",
       "      <td>14.0</td>\n",
       "    </tr>\n",
       "    <tr>\n",
       "      <th>32</th>\n",
       "      <td>300.0</td>\n",
       "      <td>202.0</td>\n",
       "      <td>25.0</td>\n",
       "    </tr>\n",
       "    <tr>\n",
       "      <th>33</th>\n",
       "      <td>1500.0</td>\n",
       "      <td>180.0</td>\n",
       "      <td>32.0</td>\n",
       "    </tr>\n",
       "    <tr>\n",
       "      <th>34</th>\n",
       "      <td>14700.0</td>\n",
       "      <td>625.0</td>\n",
       "      <td>4.0</td>\n",
       "    </tr>\n",
       "    <tr>\n",
       "      <th>35</th>\n",
       "      <td>300.0</td>\n",
       "      <td>5300.0</td>\n",
       "      <td>2.0</td>\n",
       "    </tr>\n",
       "    <tr>\n",
       "      <th>36</th>\n",
       "      <td>300.0</td>\n",
       "      <td>209.0</td>\n",
       "      <td>8.0</td>\n",
       "    </tr>\n",
       "    <tr>\n",
       "      <th>37</th>\n",
       "      <td>1200.0</td>\n",
       "      <td>699.0</td>\n",
       "      <td>10.0</td>\n",
       "    </tr>\n",
       "    <tr>\n",
       "      <th>38</th>\n",
       "      <td>3600.0</td>\n",
       "      <td>286.0</td>\n",
       "      <td>9.0</td>\n",
       "    </tr>\n",
       "    <tr>\n",
       "      <th>39</th>\n",
       "      <td>300.0</td>\n",
       "      <td>569.0</td>\n",
       "      <td>30.0</td>\n",
       "    </tr>\n",
       "    <tr>\n",
       "      <th>40</th>\n",
       "      <td>300.0</td>\n",
       "      <td>699.0</td>\n",
       "      <td>9.0</td>\n",
       "    </tr>\n",
       "    <tr>\n",
       "      <th>41</th>\n",
       "      <td>300.0</td>\n",
       "      <td>690.0</td>\n",
       "      <td>15.0</td>\n",
       "    </tr>\n",
       "    <tr>\n",
       "      <th>42</th>\n",
       "      <td>2700.0</td>\n",
       "      <td>345.0</td>\n",
       "      <td>6.0</td>\n",
       "    </tr>\n",
       "    <tr>\n",
       "      <th>43</th>\n",
       "      <td>11700.0</td>\n",
       "      <td>399.0</td>\n",
       "      <td>32.0</td>\n",
       "    </tr>\n",
       "    <tr>\n",
       "      <th>44</th>\n",
       "      <td>300.0</td>\n",
       "      <td>1728.0</td>\n",
       "      <td>6.0</td>\n",
       "    </tr>\n",
       "    <tr>\n",
       "      <th>45</th>\n",
       "      <td>300.0</td>\n",
       "      <td>1728.0</td>\n",
       "      <td>21.0</td>\n",
       "    </tr>\n",
       "    <tr>\n",
       "      <th>46</th>\n",
       "      <td>1800.0</td>\n",
       "      <td>392.0</td>\n",
       "      <td>8.0</td>\n",
       "    </tr>\n",
       "    <tr>\n",
       "      <th>47</th>\n",
       "      <td>300.0</td>\n",
       "      <td>392.0</td>\n",
       "      <td>7.0</td>\n",
       "    </tr>\n",
       "    <tr>\n",
       "      <th>48</th>\n",
       "      <td>300.0</td>\n",
       "      <td>3196.0</td>\n",
       "      <td>36.0</td>\n",
       "    </tr>\n",
       "    <tr>\n",
       "      <th>49</th>\n",
       "      <td>300.0</td>\n",
       "      <td>5000.0</td>\n",
       "      <td>20.0</td>\n",
       "    </tr>\n",
       "  </tbody>\n",
       "</table>\n",
       "</div>"
      ],
      "text/plain": [
       "    plateau_time  num_instances  num_features\n",
       "0         8700.0         1600.0        1000.0\n",
       "1         7200.0         1600.0          20.0\n",
       "2          300.0         1600.0          20.0\n",
       "3        12900.0         1600.0          20.0\n",
       "4        13800.0         1600.0          20.0\n",
       "5         9900.0         1600.0          20.0\n",
       "6         2100.0         1212.0         100.0\n",
       "7         1800.0         1212.0         100.0\n",
       "8          300.0        48842.0          14.0\n",
       "9          300.0         8145.0          22.0\n",
       "10         300.0         3772.0          29.0\n",
       "11         300.0         3771.0          29.0\n",
       "12         300.0         3770.0          29.0\n",
       "13         300.0         3772.0          29.0\n",
       "14         300.0           50.0           4.0\n",
       "15        3300.0           83.0           3.0\n",
       "16        1200.0          841.0          70.0\n",
       "17        2100.0           50.0           6.0\n",
       "18         300.0          120.0           3.0\n",
       "19         300.0          132.0           3.0\n",
       "20        4200.0          100.0           6.0\n",
       "21         300.0           97.0          10.0\n",
       "22         300.0           92.0          10.0\n",
       "23        1800.0          797.0           4.0\n",
       "24        3900.0           42.0          11.0\n",
       "25        8100.0          400.0           5.0\n",
       "26         300.0           60.0           3.0\n",
       "27         300.0           52.0           9.0\n",
       "28         300.0          264.0           4.0\n",
       "29         300.0         7200.0          21.0\n",
       "30         300.0          106.0           7.0\n",
       "31         300.0          690.0          14.0\n",
       "32         300.0          202.0          25.0\n",
       "33        1500.0          180.0          32.0\n",
       "34       14700.0          625.0           4.0\n",
       "35         300.0         5300.0           2.0\n",
       "36         300.0          209.0           8.0\n",
       "37        1200.0          699.0          10.0\n",
       "38        3600.0          286.0           9.0\n",
       "39         300.0          569.0          30.0\n",
       "40         300.0          699.0           9.0\n",
       "41         300.0          690.0          15.0\n",
       "42        2700.0          345.0           6.0\n",
       "43       11700.0          399.0          32.0\n",
       "44         300.0         1728.0           6.0\n",
       "45         300.0         1728.0          21.0\n",
       "46        1800.0          392.0           8.0\n",
       "47         300.0          392.0           7.0\n",
       "48         300.0         3196.0          36.0\n",
       "49         300.0         5000.0          20.0"
      ]
     },
     "execution_count": 705,
     "metadata": {},
     "output_type": "execute_result"
    }
   ],
   "source": [
    "c_opt_train_time_df"
   ]
  },
  {
   "cell_type": "code",
   "execution_count": 706,
   "metadata": {},
   "outputs": [],
   "source": [
    "# Retrive lists for the data to plot\n",
    "c_time = c_opt_train_time_df['plateau_time'].tolist()\n",
    "c_n = c_opt_train_time_df['num_instances'].tolist()\n",
    "c_p = c_opt_train_time_df['num_features'].tolist()\n",
    "\n",
    "r_time = r_opt_train_time_df['plateau_time'].tolist()\n",
    "r_n = r_opt_train_time_df['num_instances'].tolist()\n",
    "r_p = r_opt_train_time_df['num_features'].tolist()"
   ]
  },
  {
   "cell_type": "code",
   "execution_count": 707,
   "metadata": {},
   "outputs": [
    {
     "data": {
      "text/plain": [
       "<matplotlib.collections.PathCollection at 0x7f8b84759940>"
      ]
     },
     "execution_count": 707,
     "metadata": {},
     "output_type": "execute_result"
    },
    {
     "data": {
      "image/png": "[encoded data removed]",
      "text/plain": [
       "<Figure size 432x288 with 1 Axes>"
      ]
     },
     "metadata": {
      "needs_background": "light"
     },
     "output_type": "display_data"
    }
   ],
   "source": [
    "# Optimal train time vs. n\n",
    "plt.scatter(c_n, c_time)"
   ]
  },
  {
   "cell_type": "markdown",
   "metadata": {},
   "source": [
    "### Looks like one dataset seems to be skewing our data. Let's remove outliers"
   ]
  },
  {
   "cell_type": "code",
   "execution_count": 711,
   "metadata": {},
   "outputs": [],
   "source": [
    "from scipy import stats\n",
    "# Let's remove outliers\n",
    "c_df_no_outliers = c_opt_train_time_df[(np.abs(stats.zscore(c_opt_train_time_df)) < 3).all(axis=1)]\n",
    "r_df_no_outliers = r_opt_train_time_df[(np.abs(stats.zscore(r_opt_train_time_df)) < 3).all(axis=1)]"
   ]
  },
  {
   "cell_type": "code",
   "execution_count": 717,
   "metadata": {},
   "outputs": [],
   "source": [
    "# Retrive lists for the data to plot\n",
    "c_time = c_df_no_outliers['plateau_time'].tolist()\n",
    "c_n = c_df_no_outliers['num_instances'].tolist()\n",
    "c_p = c_df_no_outliers['num_features'].tolist()\n",
    "\n",
    "r_time = r_df_no_outliers['plateau_time'].tolist()\n",
    "r_n = r_df_no_outliers['num_instances'].tolist()\n",
    "r_p = r_df_no_outliers['num_features'].tolist()"
   ]
  },
  {
   "cell_type": "code",
   "execution_count": 723,
   "metadata": {},
   "outputs": [
    {
     "data": {
      "text/plain": [
       "Text(0, 0.5, 'Optimal Train Time (Plateau Performance)')"
      ]
     },
     "execution_count": 723,
     "metadata": {},
     "output_type": "execute_result"
    },
    {
     "data": {
      "image/png": "[encoded data removed]",
      "text/plain": [
       "<Figure size 432x288 with 1 Axes>"
      ]
     },
     "metadata": {
      "needs_background": "light"
     },
     "output_type": "display_data"
    }
   ],
   "source": [
    "plt.scatter(c_n, c_time)\n",
    "plt.title('Classification Dataset Optimal Train Time v Instance Size')\n",
    "plt.xlabel('Instance Size n')\n",
    "plt.ylabel('Optimal Train Time (Plateau Performance)')"
   ]
  },
  {
   "cell_type": "code",
   "execution_count": 724,
   "metadata": {},
   "outputs": [
    {
     "data": {
      "text/plain": [
       "Text(0, 0.5, 'Optimal Train Time (Plateau Performance)')"
      ]
     },
     "execution_count": 724,
     "metadata": {},
     "output_type": "execute_result"
    },
    {
     "data": {
      "image/png": "[encoded data removed]",
      "text/plain": [
       "<Figure size 432x288 with 1 Axes>"
      ]
     },
     "metadata": {
      "needs_background": "light"
     },
     "output_type": "display_data"
    }
   ],
   "source": [
    "plt.scatter(c_p, c_time)\n",
    "plt.title('Classification Dataset Optimal Train Time v Feature Size')\n",
    "plt.xlabel('Feature Size p')\n",
    "plt.ylabel('Optimal Train Time (Plateau Performance)')"
   ]
  },
  {
   "cell_type": "code",
   "execution_count": 725,
   "metadata": {},
   "outputs": [
    {
     "data": {
      "text/plain": [
       "Text(0, 0.5, 'Optimal Train Time (Plateau Performance)')"
      ]
     },
     "execution_count": 725,
     "metadata": {},
     "output_type": "execute_result"
    },
    {
     "data": {
      "image/png": "[encoded data removed]",
      "text/plain": [
       "<Figure size 432x288 with 1 Axes>"
      ]
     },
     "metadata": {
      "needs_background": "light"
     },
     "output_type": "display_data"
    }
   ],
   "source": [
    "plt.scatter(r_n, r_time)\n",
    "plt.title('Regression Dataset Optimal Train Time v Instance Size')\n",
    "plt.xlabel('Instance Size n')\n",
    "plt.ylabel('Optimal Train Time (Plateau Performance)')"
   ]
  },
  {
   "cell_type": "code",
   "execution_count": 726,
   "metadata": {},
   "outputs": [
    {
     "data": {
      "text/plain": [
       "Text(0, 0.5, 'Optimal Train Time (Plateau Performance)')"
      ]
     },
     "execution_count": 726,
     "metadata": {},
     "output_type": "execute_result"
    },
    {
     "data": {
      "image/png": "[encoded data removed]",
      "text/plain": [
       "<Figure size 432x288 with 1 Axes>"
      ]
     },
     "metadata": {
      "needs_background": "light"
     },
     "output_type": "display_data"
    }
   ],
   "source": [
    "plt.scatter(r_p, r_time)\n",
    "plt.title('Regression Dataset Optimal Train Time v Feature Size')\n",
    "plt.xlabel('Feature Size p')\n",
    "plt.ylabel('Optimal Train Time (Plateau Performance)')"
   ]
  },
  {
   "cell_type": "code",
   "execution_count": 727,
   "metadata": {},
   "outputs": [
    {
     "data": {
      "text/html": [
       "<div>\n",
       "<style scoped>\n",
       "    .dataframe tbody tr th:only-of-type {\n",
       "        vertical-align: middle;\n",
       "    }\n",
       "\n",
       "    .dataframe tbody tr th {\n",
       "        vertical-align: top;\n",
       "    }\n",
       "\n",
       "    .dataframe thead th {\n",
       "        text-align: right;\n",
       "    }\n",
       "</style>\n",
       "<table border=\"1\" class=\"dataframe\">\n",
       "  <thead>\n",
       "    <tr style=\"text-align: right;\">\n",
       "      <th></th>\n",
       "      <th>plateau_time</th>\n",
       "      <th>num_instances</th>\n",
       "      <th>num_features</th>\n",
       "    </tr>\n",
       "  </thead>\n",
       "  <tbody>\n",
       "    <tr>\n",
       "      <th>plateau_time</th>\n",
       "      <td>1.000000</td>\n",
       "      <td>-0.131030</td>\n",
       "      <td>0.035109</td>\n",
       "    </tr>\n",
       "    <tr>\n",
       "      <th>num_instances</th>\n",
       "      <td>-0.131030</td>\n",
       "      <td>1.000000</td>\n",
       "      <td>0.164196</td>\n",
       "    </tr>\n",
       "    <tr>\n",
       "      <th>num_features</th>\n",
       "      <td>0.035109</td>\n",
       "      <td>0.164196</td>\n",
       "      <td>1.000000</td>\n",
       "    </tr>\n",
       "  </tbody>\n",
       "</table>\n",
       "</div>"
      ],
      "text/plain": [
       "               plateau_time  num_instances  num_features\n",
       "plateau_time       1.000000      -0.131030      0.035109\n",
       "num_instances     -0.131030       1.000000      0.164196\n",
       "num_features       0.035109       0.164196      1.000000"
      ]
     },
     "execution_count": 727,
     "metadata": {},
     "output_type": "execute_result"
    }
   ],
   "source": [
    "c_df_no_outliers.corr()"
   ]
  },
  {
   "cell_type": "code",
   "execution_count": 729,
   "metadata": {},
   "outputs": [
    {
     "data": {
      "text/html": [
       "<div>\n",
       "<style scoped>\n",
       "    .dataframe tbody tr th:only-of-type {\n",
       "        vertical-align: middle;\n",
       "    }\n",
       "\n",
       "    .dataframe tbody tr th {\n",
       "        vertical-align: top;\n",
       "    }\n",
       "\n",
       "    .dataframe thead th {\n",
       "        text-align: right;\n",
       "    }\n",
       "</style>\n",
       "<table border=\"1\" class=\"dataframe\">\n",
       "  <thead>\n",
       "    <tr style=\"text-align: right;\">\n",
       "      <th></th>\n",
       "      <th>plateau_time</th>\n",
       "      <th>num_instances</th>\n",
       "      <th>num_features</th>\n",
       "    </tr>\n",
       "  </thead>\n",
       "  <tbody>\n",
       "    <tr>\n",
       "      <th>plateau_time</th>\n",
       "      <td>1.000000</td>\n",
       "      <td>0.389176</td>\n",
       "      <td>0.245371</td>\n",
       "    </tr>\n",
       "    <tr>\n",
       "      <th>num_instances</th>\n",
       "      <td>0.389176</td>\n",
       "      <td>1.000000</td>\n",
       "      <td>0.156008</td>\n",
       "    </tr>\n",
       "    <tr>\n",
       "      <th>num_features</th>\n",
       "      <td>0.245371</td>\n",
       "      <td>0.156008</td>\n",
       "      <td>1.000000</td>\n",
       "    </tr>\n",
       "  </tbody>\n",
       "</table>\n",
       "</div>"
      ],
      "text/plain": [
       "               plateau_time  num_instances  num_features\n",
       "plateau_time       1.000000       0.389176      0.245371\n",
       "num_instances      0.389176       1.000000      0.156008\n",
       "num_features       0.245371       0.156008      1.000000"
      ]
     },
     "execution_count": 729,
     "metadata": {},
     "output_type": "execute_result"
    }
   ],
   "source": [
    "r_df_no_outliers.corr()"
   ]
  },
  {
   "cell_type": "code",
   "execution_count": null,
   "metadata": {
    "collapsed": true
   },
   "outputs": [],
   "source": []
  }
 ],
 "metadata": {
  "kernelspec": {
   "display_name": "Python [conda env:auto-sklearn]",
   "language": "python",
   "name": "conda-env-auto-sklearn-py"
  },
  "language_info": {
   "codemirror_mode": {
    "name": "ipython",
    "version": 3
   },
   "file_extension": ".py",
   "mimetype": "text/x-python",
   "name": "python",
   "nbconvert_exporter": "python",
   "pygments_lexer": "ipython3",
   "version": "3.7.1"
  }
 },
 "nbformat": 4,
 "nbformat_minor": 1
}
