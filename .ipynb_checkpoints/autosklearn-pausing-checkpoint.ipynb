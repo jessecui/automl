{
 "cells": [
  {
   "cell_type": "code",
   "execution_count": 1,
   "metadata": {},
   "outputs": [
    {
     "name": "stderr",
     "output_type": "stream",
     "text": [
      "/home/jcui/.conda/envs/auto-sklearn/lib/python3.7/site-packages/sklearn/feature_extraction/text.py:17: DeprecationWarning: Using or importing the ABCs from 'collections' instead of from 'collections.abc' is deprecated, and in 3.8 it will stop working\n",
      "  from collections import Mapping, defaultdict\n"
     ]
    }
   ],
   "source": [
    "# Surpress warnings\n",
    "import warnings\n",
    "warnings.filterwarnings(\"ignore\")\n",
    "\n",
    "# Import libraries\n",
    "from pmlb import dataset_names, classification_dataset_names, regression_dataset_names, fetch_data\n",
    "import pandas as pd\n",
    "import matplotlib.pyplot as plt\n",
    "import numpy as np\n",
    "import seaborn as sb\n",
    "\n",
    "# Import SK-learn and AutoSK-Learn\n",
    "import autosklearn.classification\n",
    "import autosklearn.regression\n",
    "import sklearn.model_selection\n",
    "import sklearn.datasets\n",
    "import sklearn.metrics\n",
    "\n",
    "import time\n",
    "import shutil\n",
    "from multiprocessing import Process, current_process, Queue"
   ]
  },
  {
   "cell_type": "code",
   "execution_count": 18,
   "metadata": {
    "collapsed": true
   },
   "outputs": [],
   "source": [
    "dataset = classification_dataset_names[8]"
   ]
  },
  {
   "cell_type": "code",
   "execution_count": 19,
   "metadata": {
    "collapsed": true
   },
   "outputs": [],
   "source": [
    "X, y = fetch_data(dataset, return_X_y=True)"
   ]
  },
  {
   "cell_type": "code",
   "execution_count": 20,
   "metadata": {
    "collapsed": true
   },
   "outputs": [],
   "source": [
    "X_train, X_test, y_train, y_test = sklearn.model_selection.train_test_split(X, y, random_state=1)"
   ]
  },
  {
   "cell_type": "code",
   "execution_count": 21,
   "metadata": {
    "collapsed": true
   },
   "outputs": [],
   "source": [
    "# Set the tmp folders where the models will take data out of\n",
    "tmp_folder = '/tmp/autosklearn_parallel_example_tmp'\n",
    "output_folder = '/tmp/autosklearn_parallel_example_out'\n",
    "\n",
    "# Clear the folders if there are contents from previous runs\n",
    "for dir in [tmp_folder, output_folder]:\n",
    "    try:\n",
    "        shutil.rmtree(dir)\n",
    "    except OSError as e:\n",
    "        print('Exception occurred')"
   ]
  },
  {
   "cell_type": "code",
   "execution_count": 15,
   "metadata": {
    "collapsed": true
   },
   "outputs": [],
   "source": [
    "# A function to run the main model on the main training data\n",
    "def run_main_model(X_train, y_train, return_queue):\n",
    "    automl = autosklearn.classification.AutoSklearnClassifier(\n",
    "            time_left_for_this_task=150, # sec., how long should this seed fit process run\n",
    "            per_run_time_limit = 15,        \n",
    "            shared_mode=True, # tmp folder will be shared between seeds\n",
    "            tmp_folder=tmp_folder,\n",
    "            output_folder=output_folder,\n",
    "            delete_tmp_folder_after_terminate=False,\n",
    "            delete_output_folder_after_terminate=False,\n",
    "            seed=1,)\n",
    "    automl.fit(X_train, y_train)    \n",
    "    print(\"Done fitting\")\n",
    "    current_score = automl.score(X_test, y_test)\n",
    "    print(f\"Final score: {current_score}\")\n",
    "    return_queue.put(automl)"
   ]
  },
  {
   "cell_type": "code",
   "execution_count": 16,
   "metadata": {
    "collapsed": true
   },
   "outputs": [],
   "source": [
    "# A function that will be threaded periodically to take snapshots of the main model\n",
    "def snapshot_model_and_score(X_test, y_test, seed, curr_snap_time):\n",
    "    snapshot = autosklearn.classification.AutoSklearnClassifier(\n",
    "            time_left_for_this_task=0,\n",
    "            shared_mode=True, # tmp folder will be shared between seeds\n",
    "            tmp_folder=tmp_folder,\n",
    "            output_folder=output_folder,\n",
    "            delete_tmp_folder_after_terminate=False,\n",
    "            delete_output_folder_after_terminate=False,\n",
    "            seed=seed,)\n",
    "    \n",
    "    # Run the snapshot model to retrieve the model information from the temp folder\n",
    "    # This solution is not ideal even though it works. It currently does print an error because the time cap is 0.\n",
    "    try:\n",
    "        snapshot.fit(X_test, y_test)\n",
    "    except:\n",
    "        pass\n",
    "    \n",
    "    current_score = snapshot.score(X_test, y_test)\n",
    "    print(f\"Current snapshot score at time {curr_snap_time}: {current_score}\")"
   ]
  },
  {
   "cell_type": "code",
   "execution_count": 22,
   "metadata": {
    "scrolled": true
   },
   "outputs": [
    {
     "name": "stdout",
     "output_type": "stream",
     "text": [
      "[WARNING] [2019-03-15 23:25:15,083:EnsembleBuilder(1):af3670a46ea6c9dd172de477f812b1ff] No models better than random - using Dummy Score!\n",
      "[WARNING] [2019-03-15 23:25:15,094:EnsembleBuilder(1):af3670a46ea6c9dd172de477f812b1ff] No models better than random - using Dummy Score!\n",
      "[WARNING] [2019-03-15 23:25:17,098:EnsembleBuilder(1):af3670a46ea6c9dd172de477f812b1ff] No models better than random - using Dummy Score!\n",
      "[WARNING] [2019-03-15 23:25:19,103:EnsembleBuilder(1):af3670a46ea6c9dd172de477f812b1ff] No models better than random - using Dummy Score!\n",
      "[WARNING] [2019-03-15 23:25:21,108:EnsembleBuilder(1):af3670a46ea6c9dd172de477f812b1ff] No models better than random - using Dummy Score!\n",
      "[WARNING] [2019-03-15 23:25:23,113:EnsembleBuilder(1):af3670a46ea6c9dd172de477f812b1ff] No models better than random - using Dummy Score!\n",
      "[WARNING] [2019-03-15 23:25:25,117:EnsembleBuilder(1):af3670a46ea6c9dd172de477f812b1ff] No models better than random - using Dummy Score!\n",
      "Current time is 3237241.026639331\n",
      "[ERROR] [2019-03-15 23:25:30,665:AutoML(2):af3670a46ea6c9dd172de477f812b1ff] Error creating dummy predictions: {'error': 'Timeout', 'configuration_origin': 'DUMMY'} \n",
      "Current snapshot score at time 15: 0.8613545164196217\n",
      "Current time is 3237256.051771911\n",
      "[ERROR] [2019-03-15 23:25:45,682:AutoML(3):af3670a46ea6c9dd172de477f812b1ff] Error creating dummy predictions: {'error': 'Timeout', 'configuration_origin': 'DUMMY'} \n",
      "Current snapshot score at time 30: 0.860289902546884\n",
      "Current time is 3237271.076934277\n",
      "[ERROR] [2019-03-15 23:26:00,685:AutoML(4):af3670a46ea6c9dd172de477f812b1ff] Error creating dummy predictions: {'error': 'Timeout', 'configuration_origin': 'DUMMY'} \n",
      "Current snapshot score at time 45: 0.860289902546884\n",
      "Current time is 3237286.101172735\n",
      "[ERROR] [2019-03-15 23:26:15,696:AutoML(5):af3670a46ea6c9dd172de477f812b1ff] Error creating dummy predictions: {'error': 'Timeout', 'configuration_origin': 'DUMMY'} \n",
      "Current snapshot score at time 60: 0.860289902546884\n",
      "Current time is 3237301.125190502\n",
      "[ERROR] [2019-03-15 23:26:30,741:AutoML(6):af3670a46ea6c9dd172de477f812b1ff] Error creating dummy predictions: {'error': 'Timeout', 'configuration_origin': 'DUMMY'} \n",
      "Current snapshot score at time 75: 0.8700352141511751\n",
      "Done fitting\n",
      "Final score: 0.8700352141511751\n"
     ]
    }
   ],
   "source": [
    "# Main script to run the processes for the automl training and the snapshotting\n",
    "snap_times = 5 # How many snaps to take\n",
    "snap_interval = 15 # Seconds between snaps\n",
    "return_queue = Queue()\n",
    "\n",
    "base_process = Process(target = run_main_model, args = (X_train, y_train, return_queue))\n",
    "base_process.start()\n",
    "\n",
    "for snap_time in range(snap_times):\n",
    "    time.sleep(snap_interval)\n",
    "    print(f'Current time is {time.perf_counter()}')\n",
    "    process = Process(target = snapshot_model_and_score, args = (X_test, y_test, snap_time+2, (snap_time+1)*snap_interval))\n",
    "    automl_final = process.start()\n",
    "    "
   ]
  },
  {
   "cell_type": "code",
   "execution_count": 23,
   "metadata": {
    "collapsed": true
   },
   "outputs": [],
   "source": [
    "# Return the final model\n",
    "automl = return_queue.get()"
   ]
  },
  {
   "cell_type": "code",
   "execution_count": 24,
   "metadata": {},
   "outputs": [
    {
     "name": "stdout",
     "output_type": "stream",
     "text": [
      "Final score confirmation: 0.8700352141511751\n"
     ]
    }
   ],
   "source": [
    "print(f\"Final score confirmation: {automl.score(X_test, y_test)}\")"
   ]
  },
  {
   "cell_type": "code",
   "execution_count": null,
   "metadata": {
    "collapsed": true
   },
   "outputs": [],
   "source": []
  }
 ],
 "metadata": {
  "kernelspec": {
   "display_name": "Python [conda env:auto-sklearn]",
   "language": "python",
   "name": "conda-env-auto-sklearn-py"
  },
  "language_info": {
   "codemirror_mode": {
    "name": "ipython",
    "version": 3
   },
   "file_extension": ".py",
   "mimetype": "text/x-python",
   "name": "python",
   "nbconvert_exporter": "python",
   "pygments_lexer": "ipython3",
   "version": "3.7.1"
  }
 },
 "nbformat": 4,
 "nbformat_minor": 1
}
