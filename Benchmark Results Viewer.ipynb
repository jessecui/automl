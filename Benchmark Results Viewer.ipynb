{
 "cells": [
  {
   "cell_type": "code",
   "execution_count": 64,
   "metadata": {
    "collapsed": true
   },
   "outputs": [],
   "source": [
    "import pandas as pd\n",
    "import matplotlib.pyplot as plt\n",
    "import numpy as np\n",
    "import sys"
   ]
  },
  {
   "cell_type": "code",
   "execution_count": 232,
   "metadata": {
    "collapsed": true
   },
   "outputs": [],
   "source": [
    "# Indicate data type and number\n",
    "data_type = 'c'\n",
    "number = 1"
   ]
  },
  {
   "cell_type": "code",
   "execution_count": 234,
   "metadata": {},
   "outputs": [
    {
     "name": "stdout",
     "output_type": "stream",
     "text": [
      "Data size:  1.001105 MB\n",
      "Number of features p:  1000\n",
      "Number of instance n:  1600\n"
     ]
    },
    {
     "data": {
      "text/plain": [
       "[<matplotlib.lines.Line2D at 0x7f9b1cf04ef0>]"
      ]
     },
     "execution_count": 234,
     "metadata": {},
     "output_type": "execute_result"
    },
    {
     "data": {
      "image/png": "[encoded data removed]",
      "text/plain": [
       "<Figure size 432x288 with 1 Axes>"
      ]
     },
     "metadata": {
      "needs_background": "light"
     },
     "output_type": "display_data"
    }
   ],
   "source": [
    "data = pd.read_csv(\"PMLB_benchmark_results/\" + data_type + str(number) + \"_maxtime14400_interval300.csv\", sep = '\\t')\n",
    "print('Data size: ', str(sys.getsizeof(data)/1000000), 'MB')\n",
    "print('Number of features p: ', data.loc[0, 'num_features'])\n",
    "print('Number of instance n: ', data.loc[0, 'num_instances'])\n",
    "score_metric = 'accuracy' if data_type == 'c' else 'mean_squared_error'\n",
    "\n",
    "times = data['time_stamp'].tolist()\n",
    "accuracies = data[score_metric].tolist()\n",
    "plt.xlabel('Time in seconds')\n",
    "plt.ylabel(score_metric)\n",
    "axes = plt.gca()\n",
    "if data_type == 'c':\n",
    "    axes.set_xlim([0,15000])\n",
    "    axes.set_ylim([.4,1])\n",
    "plt.plot(times, accuracies)"
   ]
  },
  {
   "cell_type": "code",
   "execution_count": 194,
   "metadata": {},
   "outputs": [
    {
     "data": {
      "text/plain": [
       "Index(['Unnamed: 0', 'accuracy', 'balanced_accuracy', 'f1_macro', 'f1_micro',\n",
       "       'f1_weighted', 'models', 'name', 'num_classes', 'num_features',\n",
       "       'num_instances', 'number', 'precision_macro', 'precision_micro',\n",
       "       'precision_weighted', 'recall_macro', 'recall_micro', 'recall_weighted',\n",
       "       'time_stamp', 'train_accuracy', 'train_balanced_accuracy',\n",
       "       'train_f1_macro', 'train_f1_micro', 'train_f1_weighted',\n",
       "       'train_precision_macro', 'train_precision_micro',\n",
       "       'train_precision_weighted', 'train_recall_macro', 'train_recall_micro',\n",
       "       'train_recall_weighted'],\n",
       "      dtype='object')"
      ]
     },
     "execution_count": 194,
     "metadata": {},
     "output_type": "execute_result"
    }
   ],
   "source": [
    "data"
   ]
  },
  {
   "cell_type": "code",
   "execution_count": null,
   "metadata": {
    "collapsed": true
   },
   "outputs": [],
   "source": []
  }
 ],
 "metadata": {
  "kernelspec": {
   "display_name": "Python [conda env:auto-sklearn]",
   "language": "python",
   "name": "conda-env-auto-sklearn-py"
  },
  "language_info": {
   "codemirror_mode": {
    "name": "ipython",
    "version": 3
   },
   "file_extension": ".py",
   "mimetype": "text/x-python",
   "name": "python",
   "nbconvert_exporter": "python",
   "pygments_lexer": "ipython3",
   "version": "3.7.1"
  }
 },
 "nbformat": 4,
 "nbformat_minor": 1
}
