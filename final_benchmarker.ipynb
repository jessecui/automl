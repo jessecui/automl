{
 "cells": [
  {
   "cell_type": "code",
   "execution_count": 76,
   "metadata": {
    "collapsed": true
   },
   "outputs": [],
   "source": [
    "# Surpress warnings\n",
    "import warnings\n",
    "warnings.filterwarnings(\"ignore\")\n",
    "\n",
    "# Import libraries for benchmarking\n",
    "from pmlb import dataset_names, classification_dataset_names, regression_dataset_names, fetch_data\n",
    "import pandas as pd\n",
    "import matplotlib.pyplot as plt\n",
    "import numpy as np\n",
    "import seaborn as sb\n",
    "import pickle\n",
    "from joblib import dump, load\n",
    "import sys\n",
    "import math\n",
    "import dill\n",
    "\n",
    "# Import libraries for multithreading\n",
    "import time\n",
    "import shutil\n",
    "from multiprocessing import Process, current_process, Manager, Value, active_children\n",
    "\n",
    "# Import SK-learn and AutoSK-Learn\n",
    "import autosklearn.classification\n",
    "import autosklearn.regression\n",
    "import sklearn.model_selection\n",
    "import sklearn.datasets\n",
    "import sklearn.metrics"
   ]
  },
  {
   "cell_type": "code",
   "execution_count": 77,
   "metadata": {},
   "outputs": [
    {
     "data": {
      "text/plain": [
       "_StoreTrueAction(option_strings=['-c', '--class_sets'], dest='class_sets', nargs=0, const=True, default=False, type=None, choices=None, help='Benchmark on classification sets (default)', metavar=None)"
      ]
     },
     "execution_count": 77,
     "metadata": {},
     "output_type": "execute_result"
    }
   ],
   "source": [
    "# Read user arguments with argparse\n",
    "import argparse\n",
    "\n",
    "parser = argparse.ArgumentParser(description='Run Auto-SkLearn on PMLB datasets')\n",
    "\n",
    "parser.add_argument('-min', '--minset', type=int, metavar='', required=False, default=1, help = 'Min dataset number (default 1)')\n",
    "parser.add_argument('-max', '--maxset', type=int, metavar='', required=False, default=166, help = '# Max dataset number (default is 166 for classifcation, 120 for regression)')\n",
    "parser.add_argument('-mem', '--memory', type=int, metavar='', required=False, default=3072, help = '# Memory capacity for the AutoSklean script (default 3072MB)')\n",
    "parser.add_argument('-noxg', '--no_xgboost', action='store_true', help = '# Remove XGBoost library from being used in Auto-SkLearn')\n",
    "parser.add_argument('-t', '--maxtime', type=int, metavar='', required=False, default=1, help = 'Maximum time to run the model for in seconds(default 3600)')\n",
    "parser.add_argument('-i', '--interval', type=int, metavar='', required=False, default=60, help = 'Interval in seconds to record data for each model')\n",
    "\n",
    "class_group = parser.add_mutually_exclusive_group()\n",
    "class_group.add_argument('-r', '--regre_sets', action='store_true', help='Benchmark on regression sets')\n",
    "class_group.add_argument('-c', '--class_sets', action='store_true', help='Benchmark on classification sets (default)')"
   ]
  },
  {
   "cell_type": "code",
   "execution_count": 78,
   "metadata": {},
   "outputs": [],
   "source": [
    "args = parser.parse_args(['-min','7','-max','10','-noxg','-t', '120', '-i', '60', '-r'])"
   ]
  },
  {
   "cell_type": "code",
   "execution_count": 79,
   "metadata": {
    "collapsed": true
   },
   "outputs": [],
   "source": [
    "# Assign variables based on arguments\n",
    "minset = args.minset\n",
    "maxset = args.maxset\n",
    "max_time = args.maxtime\n",
    "regre_sets = args.regre_sets\n",
    "class_sets = args.class_sets\n",
    "no_xgboost = args.no_xgboost\n",
    "memory_cap = args.memory\n",
    "interval = args.interval"
   ]
  },
  {
   "cell_type": "code",
   "execution_count": 80,
   "metadata": {
    "collapsed": true
   },
   "outputs": [],
   "source": [
    "# Set classification sets to default if no class was selected\n",
    "if not regre_sets and not class_sets:\n",
    "    class_sets = True\n",
    "\n",
    "# Rescale dataset max number to be within boundaries\n",
    "if maxset < minset:\n",
    "    temp = maxset\n",
    "    maxset = minset\n",
    "    minset = temp\n",
    "if minset < 1:\n",
    "    minset = 1\n",
    "    print('Minset provided is less than 1, changed to 1.')\n",
    "if class_sets and maxset > 166:\n",
    "    maxset = 166\n",
    "    print('Maxset provided is greater than 166, changed to 166.')\n",
    "if regre_sets and maxset > 120:                \n",
    "    maxset = 120\n",
    "    print('Maxset provided is greater than 120, changed to 120.')  "
   ]
  },
  {
   "cell_type": "code",
   "execution_count": 81,
   "metadata": {},
   "outputs": [
    {
     "name": "stdout",
     "output_type": "stream",
     "text": [
      "7\n",
      "10\n",
      "120\n",
      "True\n",
      "False\n",
      "True\n",
      "3072\n",
      "60\n"
     ]
    }
   ],
   "source": [
    "print(minset)\n",
    "print(maxset)\n",
    "print(max_time)\n",
    "print(regre_sets)\n",
    "print(class_sets)\n",
    "print(no_xgboost)\n",
    "print(memory_cap)\n",
    "print(interval)"
   ]
  },
  {
   "cell_type": "code",
   "execution_count": 93,
   "metadata": {},
   "outputs": [
    {
     "name": "stdout",
     "output_type": "stream",
     "text": [
      "1191_BNG_pbc\n",
      "1000000\n",
      "1193_BNG_lowbwt\n",
      "31104\n",
      "1196_BNG_pharynx\n",
      "1000000\n",
      "1199_BNG_echoMonths\n",
      "17496\n"
     ]
    }
   ],
   "source": [
    "# Create a dictionary of the number of features, instances, and classes per classification dataset\n",
    "# Potentially look into including number of binary, integer, and float features in the future\n",
    "\n",
    "final_datasets = []\n",
    "dataset_props = {}\n",
    "\n",
    "if class_sets:\n",
    "    dataset_names = classification_dataset_names[minset-1: maxset] \n",
    "if regre_sets:\n",
    "    dataset_names = regression_dataset_names[minset-1: maxset]        \n",
    "\n",
    "dataset_number = minset;\n",
    "for dataset in dataset_names:\n",
    "    print(dataset)\n",
    "    X, y = fetch_data(dataset, return_X_y=True)\n",
    "    num_instances, num_features =  X.shape\n",
    "    print(num_instances)\n",
    "    if num_instances > 500000:\n",
    "        dataset_number += 1\n",
    "        continue        \n",
    "    num_classes = (np.unique(y)).size if class_sets else -1\n",
    "    dataset_props[dataset] = (num_instances, num_features, num_classes, dataset_number)\n",
    "    final_datasets.append(dataset)\n",
    "    dataset_number += 1"
   ]
  },
  {
   "cell_type": "code",
   "execution_count": 96,
   "metadata": {},
   "outputs": [
    {
     "data": {
      "text/plain": [
       "{'1193_BNG_lowbwt': (31104, 9, -1, 8),\n",
       " '1199_BNG_echoMonths': (17496, 9, -1, 10)}"
      ]
     },
     "execution_count": 96,
     "metadata": {},
     "output_type": "execute_result"
    }
   ],
   "source": [
    "dataset_props"
   ]
  },
  {
   "cell_type": "code",
   "execution_count": 83,
   "metadata": {
    "collapsed": true
   },
   "outputs": [],
   "source": [
    "# Set the tmp folders where the models will take data out of\n",
    "tmp_folder = '/tmp/autosklearn_parallel_example_tmp'\n",
    "output_folder = '/tmp/autosklearn_parallel_example_out'\n",
    "\n",
    "# Clear the folders if there are contents from previous runs\n",
    "def clear_tmp_folders():\n",
    "    for dir in [tmp_folder, output_folder]:\n",
    "        try:\n",
    "            shutil.rmtree(dir)\n",
    "        except OSError as e:\n",
    "            print('Exception occurred')"
   ]
  },
  {
   "cell_type": "code",
   "execution_count": 84,
   "metadata": {
    "collapsed": true
   },
   "outputs": [],
   "source": [
    "# A function to run the main model on the main training data\n",
    "def run_main_model(dataset, X_train, y_train, max_time, memory_cap, tmp_folder, output_folder, interval, model_done, model_failed):\n",
    "    curr_dataset_results = {}\n",
    "    # Run the classifier\n",
    "    automl = 0;\n",
    "\n",
    "    if class_sets:\n",
    "        if no_xgboost:\n",
    "            automl = autosklearn.classification.AutoSklearnClassifier(time_left_for_this_task = max_time,\n",
    "                                                                      ml_memory_limit = memory_cap,\n",
    "                                                                      exclude_estimators = 'xgradient_boosting.py',\n",
    "                                                                      shared_mode=True,\n",
    "                                                                      tmp_folder=tmp_folder,\n",
    "                                                                      output_folder=output_folder,\n",
    "                                                                      delete_tmp_folder_after_terminate=False,\n",
    "                                                                      delete_output_folder_after_terminate=False,\n",
    "                                                                      seed=1)\n",
    "        else:\n",
    "            automl = autosklearn.classification.AutoSklearnClassifier(time_left_for_this_task = max_time, \n",
    "                                                                      ml_memory_limit = memory_cap,\n",
    "                                                                      shared_mode=True,\n",
    "                                                                      tmp_folder=tmp_folder,\n",
    "                                                                      output_folder=output_folder,\n",
    "                                                                      delete_tmp_folder_after_terminate=False,\n",
    "                                                                      delete_output_folder_after_terminate=False,\n",
    "                                                                      seed=1)\n",
    "    if regre_sets:\n",
    "        if no_xgboost:\n",
    "            automl = autosklearn.regression.AutoSklearnRegressor(time_left_for_this_task = max_time, \n",
    "                                                                 ml_memory_limit = memory_cap,\n",
    "                                                                 exclude_estimators = 'xgradient_boosting.py',\n",
    "                                                                 shared_mode=True,\n",
    "                                                                 tmp_folder=tmp_folder,\n",
    "                                                                 output_folder=output_folder,\n",
    "                                                                 delete_tmp_folder_after_terminate=False,\n",
    "                                                                 delete_output_folder_after_terminate=False,\n",
    "                                                                 seed=1)\n",
    "        else:\n",
    "            automl = autosklearn.regression.AutoSklearnRegressor(time_left_for_this_task = max_time, \n",
    "                                                                 ml_memory_limit = memory_cap,\n",
    "                                                                 shared_mode=True,\n",
    "                                                                 tmp_folder=tmp_folder,\n",
    "                                                                 output_folder=output_folder,\n",
    "                                                                 delete_tmp_folder_after_terminate=False,\n",
    "                                                                 delete_output_folder_after_terminate=False,\n",
    "                                                                 seed=1)\n",
    "\n",
    "    # Use the fit and test with AutoSkLearn on the current data.\n",
    "    # If exception occurs, continue to next dataset.\n",
    "    try:\n",
    "        print(\"Auto-SKLearn, fitting\")\n",
    "        automl.fit(X_train, y_train)\n",
    "        model_done.value = True\n",
    "        print(\"Auto-SKLearn, testing\")        \n",
    "        current_score = automl.score(X_test, y_test)                            \n",
    "        print(\"Auto-SKLearn, finished testing on set \", str(dataset_props[dataset][3]))\n",
    "        print(\"Current set Autosklearn final score: \", str(current_score))\n",
    "    except:        \n",
    "        print(\"EXCEPTION: CURRENT DATASET FAILED WITH AUTOSKLEARN. CONTINUING TO NEXT DATASET.\")\n",
    "        model_done.value = True\n",
    "        model_failed.value = True"
   ]
  },
  {
   "cell_type": "code",
   "execution_count": 85,
   "metadata": {
    "collapsed": true
   },
   "outputs": [],
   "source": [
    "# A function that will be threaded periodically to take snapshots of the main model\n",
    "def snapshot_model_and_score(X_test, y_test, max_time, memory_cap, tmp_folder, output_folder, \n",
    "                             seed, curr_snap_time, dataset_props, df_rows_list, class_sets, regre_sets, interval):\n",
    "    if class_sets:\n",
    "        snapshot = autosklearn.classification.AutoSklearnClassifier(\n",
    "                time_left_for_this_task=15,\n",
    "                per_run_time_limit = 1,\n",
    "                shared_mode=True, # tmp folder will be shared between seeds\n",
    "                tmp_folder=tmp_folder,\n",
    "                output_folder=output_folder,\n",
    "                delete_tmp_folder_after_terminate=False,\n",
    "                delete_output_folder_after_terminate=False,\n",
    "                seed=seed,)\n",
    "    if regre_sets:\n",
    "        snapshot = autosklearn.regression.AutoSklearnRegressor(\n",
    "                time_left_for_this_task=15,\n",
    "                per_run_time_limit = 1,\n",
    "                shared_mode=True, # tmp folder will be shared between seeds\n",
    "                tmp_folder=tmp_folder,\n",
    "                output_folder=output_folder,\n",
    "                delete_tmp_folder_after_terminate=False,\n",
    "                delete_output_folder_after_terminate=False,\n",
    "                seed=seed,)            \n",
    "\n",
    "    # Run the snapshot model to retrieve the model information from the temp folder\n",
    "    # This solution is not ideal even though it works. It may print an error.\n",
    "    \n",
    "    try:\n",
    "        snapshot.fit(X_test, y_test)\n",
    "    except:\n",
    "        print(\"EXCETION ON SNAPSHOT FITTING \", str(dataset_props[dataset][3]))\n",
    "    \n",
    "    y_hat = snapshot.predict(X_test)\n",
    "    if class_sets:\n",
    "        curr_model_score = autosklearn.metrics.accuracy(y_test, y_hat)\n",
    "        print(f\"Current snapshot accuracy score at time {curr_snap_time}: {curr_model_score}\")\n",
    "        \n",
    "    if regre_sets:\n",
    "        curr_model_score = autosklearn.metrics.mean_squared_error(y_test, y_hat)\n",
    "        print(f\"Current snapshot MSE score at time {curr_snap_time}: {curr_model_score}\")    \n",
    "    \n",
    "        \n",
    "    # Store the result in a dictionary\n",
    "    curr_dataset_results = {}\n",
    "    curr_dataset_results['name'] = dataset\n",
    "    curr_dataset_results['number'] = dataset_props[dataset][3]\n",
    "    curr_dataset_results['num_instances'] = dataset_props[dataset][0]\n",
    "    curr_dataset_results['num_features'] = dataset_props[dataset][1]\n",
    "    curr_dataset_results['num_classes'] = dataset_props[dataset][2]\n",
    "    curr_dataset_results['time_stamp'] = curr_snap_time\n",
    "    curr_dataset_results['models']  = snapshot.get_models_with_weights()\n",
    "    \n",
    "    if class_sets:\n",
    "        curr_dataset_results['accuracy'] = autosklearn.metrics.accuracy(y_test, y_hat)\n",
    "        curr_dataset_results['balanced_accuracy'] = autosklearn.metrics.balanced_accuracy(y_test, y_hat)\n",
    "        curr_dataset_results['f1_macro'] = autosklearn.metrics.f1_macro(y_test, y_hat)\n",
    "        curr_dataset_results['f1_micro'] = autosklearn.metrics.f1_micro(y_test, y_hat)\n",
    "        curr_dataset_results['f1_weighted'] = autosklearn.metrics.f1_weighted(y_test, y_hat)\n",
    "        curr_dataset_results['precision_macro'] = autosklearn.metrics.precision_macro(y_test, y_hat)\n",
    "        curr_dataset_results['precision_micro'] = autosklearn.metrics.precision_micro(y_test, y_hat)\n",
    "        curr_dataset_results['precision_weighted'] = autosklearn.metrics.precision_weighted(y_test, y_hat)\n",
    "        curr_dataset_results['recall_macro'] = autosklearn.metrics.recall_macro(y_test, y_hat)\n",
    "        curr_dataset_results['recall_micro'] = autosklearn.metrics.recall_micro(y_test, y_hat)\n",
    "        curr_dataset_results['recall_weighted'] = autosklearn.metrics.recall_weighted(y_test, y_hat)\n",
    "        \n",
    "    if regre_sets:\n",
    "        curr_dataset_results['r2'] = autosklearn.metrics.r2(y_test, y_hat)\n",
    "        curr_dataset_results['mean_squared_error'] = autosklearn.metrics.mean_squared_error(y_test, y_hat)\n",
    "        curr_dataset_results['mean_absolute_error'] = autosklearn.metrics.mean_absolute_error(y_test, y_hat)\n",
    "        curr_dataset_results['median_absolute_error'] = autosklearn.metrics.median_absolute_error(y_test, y_hat)\n",
    "\n",
    "    # Append current dictionary to a list of dictionary\n",
    "    df_rows_list.append(curr_dataset_results)                \n",
    "\n",
    "    # Create a Pandas Dataframe with the results\n",
    "    autosklearn_df = pd.DataFrame(list(df_rows_list))\n",
    "    #autosklearn_df.sort_values(by=['number', 'time_stamp'])\n",
    "\n",
    "    # Save results into a CSV after every round\n",
    "    set_type_string = 'c' if class_sets else 'r'\n",
    "\n",
    "    csv_file_name = 'PMLB_benchmark_results/' + set_type_string + str(dataset_props[dataset][3]) + '_' + \\\n",
    "                'maxtime' + str(max_time) + '_'+ 'interval' + str(interval) + '.csv'\n",
    "    print('saved to ', csv_file_name)\n",
    "\n",
    "    autosklearn_df.to_csv(file_name, sep='\\t')\n",
    "    \n",
    "    # Save the pickled model\n",
    "    # Cannot do this since we cannot pickle within a subprocess\n",
    "    model_file_name = 'Saved_models/' + set_type_string + str(dataset_props[dataset][3]) + '_' + 'maxtime' + str(max_time) + '_' + 'interval' + str(interval) + '.sav'    \n",
    "    dump(snapshot, model_file_name)\n",
    "    print('Successfully saved snapshot model to ', model_file_name)\n",
    "    \n"
   ]
  },
  {
   "cell_type": "code",
   "execution_count": 89,
   "metadata": {},
   "outputs": [
    {
     "data": {
      "text/plain": [
       "{'1193_BNG_lowbwt': (31104, 9, -1, 8),\n",
       " '1199_BNG_echoMonths': (17496, 9, -1, 10)}"
      ]
     },
     "execution_count": 89,
     "metadata": {},
     "output_type": "execute_result"
    }
   ],
   "source": [
    "dataset_props"
   ]
  },
  {
   "cell_type": "code",
   "execution_count": 88,
   "metadata": {
    "scrolled": false
   },
   "outputs": [
    {
     "name": "stdout",
     "output_type": "stream",
     "text": [
      "\n"
     ]
    },
    {
     "ename": "KeyError",
     "evalue": "'1191_BNG_pbc'",
     "output_type": "error",
     "traceback": [
      "\u001b[0;31m---------------------------------------------------------------------------\u001b[0m",
      "\u001b[0;31mKeyError\u001b[0m                                  Traceback (most recent call last)",
      "\u001b[0;32m<ipython-input-88-3707c2c30d62>\u001b[0m in \u001b[0;36m<module>\u001b[0;34m\u001b[0m\n\u001b[1;32m     10\u001b[0m     \u001b[0mclear_tmp_folders\u001b[0m\u001b[0;34m(\u001b[0m\u001b[0;34m)\u001b[0m\u001b[0;34m\u001b[0m\u001b[0;34m\u001b[0m\u001b[0m\n\u001b[1;32m     11\u001b[0m     \u001b[0mprint\u001b[0m\u001b[0;34m(\u001b[0m\u001b[0;34m\"\"\u001b[0m\u001b[0;34m)\u001b[0m\u001b[0;34m\u001b[0m\u001b[0;34m\u001b[0m\u001b[0m\n\u001b[0;32m---> 12\u001b[0;31m     \u001b[0mprint\u001b[0m\u001b[0;34m(\u001b[0m\u001b[0;34m\"Auto-SKLearn, on dataset \"\u001b[0m\u001b[0;34m,\u001b[0m \u001b[0mdataset\u001b[0m\u001b[0;34m,\u001b[0m \u001b[0;34m\" | Number: \"\u001b[0m\u001b[0;34m,\u001b[0m \u001b[0mstr\u001b[0m\u001b[0;34m(\u001b[0m\u001b[0mdataset_props\u001b[0m\u001b[0;34m[\u001b[0m\u001b[0mdataset\u001b[0m\u001b[0;34m]\u001b[0m\u001b[0;34m[\u001b[0m\u001b[0;36m3\u001b[0m\u001b[0;34m]\u001b[0m\u001b[0;34m)\u001b[0m\u001b[0;34m,\u001b[0m \u001b[0;34m\"max of \"\u001b[0m\u001b[0;34m,\u001b[0m \u001b[0mstr\u001b[0m\u001b[0;34m(\u001b[0m\u001b[0mmaxset\u001b[0m\u001b[0;34m)\u001b[0m\u001b[0;34m)\u001b[0m\u001b[0;34m\u001b[0m\u001b[0;34m\u001b[0m\u001b[0m\n\u001b[0m\u001b[1;32m     13\u001b[0m     \u001b[0mprint\u001b[0m\u001b[0;34m(\u001b[0m\u001b[0;34m\"Properties: \"\u001b[0m\u001b[0;34m)\u001b[0m\u001b[0;34m\u001b[0m\u001b[0;34m\u001b[0m\u001b[0m\n\u001b[1;32m     14\u001b[0m     \u001b[0mprint\u001b[0m\u001b[0;34m(\u001b[0m\u001b[0mstr\u001b[0m\u001b[0;34m(\u001b[0m\u001b[0mdataset_props\u001b[0m\u001b[0;34m[\u001b[0m\u001b[0mdataset\u001b[0m\u001b[0;34m]\u001b[0m\u001b[0;34m)\u001b[0m\u001b[0;34m)\u001b[0m\u001b[0;34m\u001b[0m\u001b[0;34m\u001b[0m\u001b[0m\n",
      "\u001b[0;31mKeyError\u001b[0m: '1191_BNG_pbc'"
     ]
    }
   ],
   "source": [
    "manager = Manager()\n",
    "\n",
    "# Add performance results of the datasets that we query on to a final dataframe to output\n",
    "for dataset in dataset_names:    \n",
    "    shared_list = manager.list()\n",
    "    # Split the data to training and test sets\n",
    "    X, y = fetch_data(dataset, return_X_y=True)\n",
    "    X_train, X_test, y_train, y_test = sklearn.model_selection.train_test_split(X, y, random_state=1)\n",
    "\n",
    "    clear_tmp_folders()        \n",
    "    print(\"\")\n",
    "    print(\"Auto-SKLearn, on dataset \", dataset, \" | Number: \", str(dataset_props[dataset][3]), \"max of \", str(maxset))\n",
    "    print(\"Properties: \")    \n",
    "    print(str(dataset_props[dataset]))\n",
    "    \n",
    "    model_done = Value('b', False)\n",
    "    model_failed = Value('b', False)\n",
    "    \n",
    "    # Start the base process for running the automl model\n",
    "    base_model_process = Process(target = run_main_model, args = (dataset, \n",
    "                                                                  X_train.copy(), \n",
    "                                                                  y_train.copy(), \n",
    "                                                                  max_time, \n",
    "                                                                  memory_cap, \n",
    "                                                                  tmp_folder, \n",
    "                                                                  output_folder,\n",
    "                                                                  interval,\n",
    "                                                                  model_done,\n",
    "                                                                  model_failed))\n",
    "\n",
    "    print('base model will start')\n",
    "    base_model_process.start()\n",
    "    print('base model started')\n",
    "    \n",
    "    snap_time = 0\n",
    "    # Take periodic snapshots of the model\n",
    "    while not model_done.value:\n",
    "        print('Snapshotting')\n",
    "        time.sleep(interval)\n",
    "        seed = snap_time + 2\n",
    "        curr_snap_time = (snap_time+1) * interval\n",
    "        print(f'Current snap time is {curr_snap_time}')\n",
    "        process = Process(target = snapshot_model_and_score, args = (X_test.copy(), \n",
    "                                                                     y_test.copy(), \n",
    "                                                                     max_time, \n",
    "                                                                     memory_cap, \n",
    "                                                                     tmp_folder, \n",
    "                                                                     output_folder, \n",
    "                                                                     seed, \n",
    "                                                                     curr_snap_time, \n",
    "                                                                     dataset_props, \n",
    "                                                                     shared_list,\n",
    "                                                                     class_sets,\n",
    "                                                                     regre_sets,\n",
    "                                                                     interval))\n",
    "        process.start()\n",
    "        snap_time += 1\n",
    "    # Take one last snapshot when the model is done and did not fail\n",
    "    if not model_failed.value:\n",
    "        print('Final Snapshot')\n",
    "        time.sleep(interval)\n",
    "        seed = snap_time + 2\n",
    "        curr_snap_time = (snap_time+1) * interval\n",
    "        print('Taking Final Snapshot')\n",
    "        process = Process(target = snapshot_model_and_score, args = (X_test.copy(), \n",
    "                                                                     y_test.copy(), \n",
    "                                                                     max_time, \n",
    "                                                                     memory_cap, \n",
    "                                                                     tmp_folder, \n",
    "                                                                     output_folder, \n",
    "                                                                     seed, \n",
    "                                                                     curr_snap_time, \n",
    "                                                                     dataset_props, \n",
    "                                                                     shared_list,\n",
    "                                                                     class_sets,\n",
    "                                                                     regre_sets,\n",
    "                                                                     interval))\n",
    "        process.start()\n",
    "        process.join()      \n",
    "    \n",
    "    # Join children and print them\n",
    "    active_children()\n",
    "        \n",
    "print('DONE!')"
   ]
  },
  {
   "cell_type": "code",
   "execution_count": 17,
   "metadata": {},
   "outputs": [
    {
     "name": "stdout",
     "output_type": "stream",
     "text": [
      "hi\n",
      "[CRITICAL] [2019-03-29 00:04:35,229:EnsembleBuilder(1000):b7949df5eb6db3b08b85a9008850c8f2] Changing ensemble score for file /tmp/autosklearn_parallel_example_tmp/.auto-sklearn/predictions_ensemble/predictions_ensemble_1000_2.npy from 0.505051 to 0.505051 because file modification time changed? 1553835792.833519 - 1553835874.513520\n"
     ]
    }
   ],
   "source": [
    "print('hi')\n",
    "snapshot = autosklearn.classification.AutoSklearnClassifier(\n",
    "        time_left_for_this_task=20,\n",
    "        per_run_time_limit = 1,\n",
    "        shared_mode=True, # tmp folder will be shared between seeds\n",
    "        tmp_folder=tmp_folder,\n",
    "        output_folder=output_folder,\n",
    "        delete_tmp_folder_after_terminate=False,\n",
    "        delete_output_folder_after_terminate=False,\n",
    "        seed=1000,)   \n",
    "\n",
    "# Run the snapshot model to retrieve the model information from the temp folder\n",
    "# This solution is not ideal even though it works. It may print an error.\n",
    "test = np.zeros((2,2))\n",
    "try:\n",
    "    snapshot.fit(X_test, y_test)\n",
    "except Exception as e:\n",
    "    print(\"EXCETION ON SNAPSHOT FITTING \")\n",
    "    print(e)"
   ]
  },
  {
   "cell_type": "code",
   "execution_count": 16,
   "metadata": {},
   "outputs": [
    {
     "data": {
      "text/plain": [
       "0.6925"
      ]
     },
     "execution_count": 16,
     "metadata": {},
     "output_type": "execute_result"
    }
   ],
   "source": [
    "snapshot.score(X_test, y_test)"
   ]
  },
  {
   "cell_type": "code",
   "execution_count": 9,
   "metadata": {
    "collapsed": true
   },
   "outputs": [],
   "source": [
    "X, y = fetch_data('GAMETES_Epistasis_2-Way_1000atts_0.4H_EDM-1_EDM-1_1', return_X_y=True)\n",
    "X_train, X_test, y_train, y_test = sklearn.model_selection.train_test_split(X, y, random_state=1)"
   ]
  },
  {
   "cell_type": "code",
   "execution_count": 30,
   "metadata": {},
   "outputs": [
    {
     "name": "stdout",
     "output_type": "stream",
     "text": [
      "hi\n",
      "Time limit for a single run is higher than total time limit. Capping the limit for a single run to the total time given to SMAC (9.570382)\n"
     ]
    },
    {
     "ename": "KeyError",
     "evalue": "Configuration:\n  balancing:strategy, Value: 'none'\n  categorical_encoding:__choice__, Value: 'one_hot_encoding'\n  categorical_encoding:one_hot_encoding:minimum_fraction, Value: 0.01\n  categorical_encoding:one_hot_encoding:use_minimum_fraction, Value: 'True'\n  classifier:__choice__, Value: 'random_forest'\n  classifier:random_forest:bootstrap, Value: 'True'\n  classifier:random_forest:criterion, Value: 'gini'\n  classifier:random_forest:max_depth, Constant: 'None'\n  classifier:random_forest:max_features, Value: 0.5\n  classifier:random_forest:max_leaf_nodes, Constant: 'None'\n  classifier:random_forest:min_impurity_decrease, Constant: 0.0\n  classifier:random_forest:min_samples_leaf, Value: 1\n  classifier:random_forest:min_samples_split, Value: 2\n  classifier:random_forest:min_weight_fraction_leaf, Constant: 0.0\n  classifier:random_forest:n_estimators, Constant: 100\n  imputation:strategy, Value: 'mean'\n  preprocessor:__choice__, Value: 'no_preprocessing'\n  rescaling:__choice__, Value: 'standardize'\n",
     "output_type": "error",
     "traceback": [
      "\u001b[0;31m---------------------------------------------------------------------------\u001b[0m",
      "\u001b[0;31mBudgetExhaustedException\u001b[0m                  Traceback (most recent call last)",
      "\u001b[0;32m~/.conda/envs/auto-sklearn/lib/python3.7/site-packages/smac/intensification/intensification.py\u001b[0m in \u001b[0;36mintensify\u001b[0;34m(self, challengers, incumbent, run_history, aggregate_func, time_bound, log_traj)\u001b[0m\n\u001b[1;32m    161\u001b[0m                 \u001b[0;31m# Lines 3-7\u001b[0m\u001b[0;34m\u001b[0m\u001b[0;34m\u001b[0m\u001b[0;34m\u001b[0m\u001b[0m\n\u001b[0;32m--> 162\u001b[0;31m                 \u001b[0mself\u001b[0m\u001b[0;34m.\u001b[0m\u001b[0m_add_inc_run\u001b[0m\u001b[0;34m(\u001b[0m\u001b[0mincumbent\u001b[0m\u001b[0;34m=\u001b[0m\u001b[0mincumbent\u001b[0m\u001b[0;34m,\u001b[0m \u001b[0mrun_history\u001b[0m\u001b[0;34m=\u001b[0m\u001b[0mrun_history\u001b[0m\u001b[0;34m)\u001b[0m\u001b[0;34m\u001b[0m\u001b[0;34m\u001b[0m\u001b[0m\n\u001b[0m\u001b[1;32m    163\u001b[0m \u001b[0;34m\u001b[0m\u001b[0m\n",
      "\u001b[0;32m~/.conda/envs/auto-sklearn/lib/python3.7/site-packages/smac/intensification/intensification.py\u001b[0m in \u001b[0;36m_add_inc_run\u001b[0;34m(self, incumbent, run_history)\u001b[0m\n\u001b[1;32m    262\u001b[0m                         \u001b[0mcutoff\u001b[0m\u001b[0;34m=\u001b[0m\u001b[0mself\u001b[0m\u001b[0;34m.\u001b[0m\u001b[0mcutoff\u001b[0m\u001b[0;34m,\u001b[0m\u001b[0;34m\u001b[0m\u001b[0;34m\u001b[0m\u001b[0m\n\u001b[0;32m--> 263\u001b[0;31m                         instance_specific=self.instance_specifics.get(next_instance, \"0\"))\n\u001b[0m\u001b[1;32m    264\u001b[0m \u001b[0;34m\u001b[0m\u001b[0m\n",
      "\u001b[0;32m~/.conda/envs/auto-sklearn/lib/python3.7/site-packages/autosklearn/evaluation/__init__.py\u001b[0m in \u001b[0;36mstart\u001b[0;34m(self, config, instance, cutoff, seed, instance_specific, capped)\u001b[0m\n\u001b[1;32m    164\u001b[0m         \u001b[0;32mif\u001b[0m \u001b[0mcutoff\u001b[0m \u001b[0;34m<\u001b[0m \u001b[0;36m1.0\u001b[0m\u001b[0;34m:\u001b[0m\u001b[0;34m\u001b[0m\u001b[0;34m\u001b[0m\u001b[0m\n\u001b[0;32m--> 165\u001b[0;31m             \u001b[0;32mraise\u001b[0m \u001b[0mBudgetExhaustedException\u001b[0m\u001b[0;34m(\u001b[0m\u001b[0;34m)\u001b[0m\u001b[0;34m\u001b[0m\u001b[0;34m\u001b[0m\u001b[0m\n\u001b[0m\u001b[1;32m    166\u001b[0m         \u001b[0mcutoff\u001b[0m \u001b[0;34m=\u001b[0m \u001b[0mint\u001b[0m\u001b[0;34m(\u001b[0m\u001b[0mnp\u001b[0m\u001b[0;34m.\u001b[0m\u001b[0mceil\u001b[0m\u001b[0;34m(\u001b[0m\u001b[0mcutoff\u001b[0m\u001b[0;34m)\u001b[0m\u001b[0;34m)\u001b[0m\u001b[0;34m\u001b[0m\u001b[0;34m\u001b[0m\u001b[0m\n",
      "\u001b[0;31mBudgetExhaustedException\u001b[0m: ",
      "\nDuring handling of the above exception, another exception occurred:\n",
      "\u001b[0;31mKeyError\u001b[0m                                  Traceback (most recent call last)",
      "\u001b[0;32m<ipython-input-30-08d1ee4c0ad9>\u001b[0m in \u001b[0;36m<module>\u001b[0;34m\u001b[0m\n\u001b[1;32m      9\u001b[0m         \u001b[0mdelete_output_folder_after_terminate\u001b[0m\u001b[0;34m=\u001b[0m\u001b[0;32mFalse\u001b[0m\u001b[0;34m,\u001b[0m\u001b[0;34m\u001b[0m\u001b[0;34m\u001b[0m\u001b[0m\n\u001b[1;32m     10\u001b[0m         seed=1000,)  \n\u001b[0;32m---> 11\u001b[0;31m \u001b[0msnapshot\u001b[0m\u001b[0;34m.\u001b[0m\u001b[0mfit\u001b[0m\u001b[0;34m(\u001b[0m\u001b[0mX_test\u001b[0m\u001b[0;34m,\u001b[0m \u001b[0my_test\u001b[0m\u001b[0;34m)\u001b[0m\u001b[0;34m\u001b[0m\u001b[0;34m\u001b[0m\u001b[0m\n\u001b[0m",
      "\u001b[0;32m~/.conda/envs/auto-sklearn/lib/python3.7/site-packages/autosklearn/estimators.py\u001b[0m in \u001b[0;36mfit\u001b[0;34m(self, X, y, X_test, y_test, metric, feat_type, dataset_name)\u001b[0m\n\u001b[1;32m    498\u001b[0m             \u001b[0mmetric\u001b[0m\u001b[0;34m=\u001b[0m\u001b[0mmetric\u001b[0m\u001b[0;34m,\u001b[0m\u001b[0;34m\u001b[0m\u001b[0;34m\u001b[0m\u001b[0m\n\u001b[1;32m    499\u001b[0m             \u001b[0mfeat_type\u001b[0m\u001b[0;34m=\u001b[0m\u001b[0mfeat_type\u001b[0m\u001b[0;34m,\u001b[0m\u001b[0;34m\u001b[0m\u001b[0;34m\u001b[0m\u001b[0m\n\u001b[0;32m--> 500\u001b[0;31m             \u001b[0mdataset_name\u001b[0m\u001b[0;34m=\u001b[0m\u001b[0mdataset_name\u001b[0m\u001b[0;34m,\u001b[0m\u001b[0;34m\u001b[0m\u001b[0;34m\u001b[0m\u001b[0m\n\u001b[0m\u001b[1;32m    501\u001b[0m         )\n\u001b[1;32m    502\u001b[0m \u001b[0;34m\u001b[0m\u001b[0m\n",
      "\u001b[0;32m~/.conda/envs/auto-sklearn/lib/python3.7/site-packages/autosklearn/estimators.py\u001b[0m in \u001b[0;36mfit\u001b[0;34m(self, *args, **kwargs)\u001b[0m\n\u001b[1;32m    265\u001b[0m     \u001b[0;32mdef\u001b[0m \u001b[0mfit\u001b[0m\u001b[0;34m(\u001b[0m\u001b[0mself\u001b[0m\u001b[0;34m,\u001b[0m \u001b[0;34m*\u001b[0m\u001b[0margs\u001b[0m\u001b[0;34m,\u001b[0m \u001b[0;34m**\u001b[0m\u001b[0mkwargs\u001b[0m\u001b[0;34m)\u001b[0m\u001b[0;34m:\u001b[0m\u001b[0;34m\u001b[0m\u001b[0;34m\u001b[0m\u001b[0m\n\u001b[1;32m    266\u001b[0m         \u001b[0mself\u001b[0m\u001b[0;34m.\u001b[0m\u001b[0m_automl\u001b[0m \u001b[0;34m=\u001b[0m \u001b[0mself\u001b[0m\u001b[0;34m.\u001b[0m\u001b[0mbuild_automl\u001b[0m\u001b[0;34m(\u001b[0m\u001b[0;34m)\u001b[0m\u001b[0;34m\u001b[0m\u001b[0;34m\u001b[0m\u001b[0m\n\u001b[0;32m--> 267\u001b[0;31m         \u001b[0mself\u001b[0m\u001b[0;34m.\u001b[0m\u001b[0m_automl\u001b[0m\u001b[0;34m.\u001b[0m\u001b[0mfit\u001b[0m\u001b[0;34m(\u001b[0m\u001b[0;34m*\u001b[0m\u001b[0margs\u001b[0m\u001b[0;34m,\u001b[0m \u001b[0;34m**\u001b[0m\u001b[0mkwargs\u001b[0m\u001b[0;34m)\u001b[0m\u001b[0;34m\u001b[0m\u001b[0;34m\u001b[0m\u001b[0m\n\u001b[0m\u001b[1;32m    268\u001b[0m         \u001b[0;32mreturn\u001b[0m \u001b[0mself\u001b[0m\u001b[0;34m\u001b[0m\u001b[0;34m\u001b[0m\u001b[0m\n\u001b[1;32m    269\u001b[0m \u001b[0;34m\u001b[0m\u001b[0m\n",
      "\u001b[0;32m~/.conda/envs/auto-sklearn/lib/python3.7/site-packages/autosklearn/automl.py\u001b[0m in \u001b[0;36mfit\u001b[0;34m(self, X, y, X_test, y_test, metric, feat_type, dataset_name, only_return_configuration_space)\u001b[0m\n\u001b[1;32m    963\u001b[0m             \u001b[0mfeat_type\u001b[0m\u001b[0;34m=\u001b[0m\u001b[0mfeat_type\u001b[0m\u001b[0;34m,\u001b[0m\u001b[0;34m\u001b[0m\u001b[0;34m\u001b[0m\u001b[0m\n\u001b[1;32m    964\u001b[0m             \u001b[0mdataset_name\u001b[0m\u001b[0;34m=\u001b[0m\u001b[0mdataset_name\u001b[0m\u001b[0;34m,\u001b[0m\u001b[0;34m\u001b[0m\u001b[0;34m\u001b[0m\u001b[0m\n\u001b[0;32m--> 965\u001b[0;31m             \u001b[0monly_return_configuration_space\u001b[0m\u001b[0;34m=\u001b[0m\u001b[0monly_return_configuration_space\u001b[0m\u001b[0;34m,\u001b[0m\u001b[0;34m\u001b[0m\u001b[0;34m\u001b[0m\u001b[0m\n\u001b[0m\u001b[1;32m    966\u001b[0m         )\n\u001b[1;32m    967\u001b[0m \u001b[0;34m\u001b[0m\u001b[0m\n",
      "\u001b[0;32m~/.conda/envs/auto-sklearn/lib/python3.7/site-packages/autosklearn/automl.py\u001b[0m in \u001b[0;36mfit\u001b[0;34m(self, X, y, task, metric, X_test, y_test, feat_type, dataset_name, only_return_configuration_space)\u001b[0m\n\u001b[1;32m    201\u001b[0m             \u001b[0mloaded_data_manager\u001b[0m\u001b[0;34m,\u001b[0m\u001b[0;34m\u001b[0m\u001b[0;34m\u001b[0m\u001b[0m\n\u001b[1;32m    202\u001b[0m             \u001b[0mmetric\u001b[0m\u001b[0;34m,\u001b[0m\u001b[0;34m\u001b[0m\u001b[0;34m\u001b[0m\u001b[0m\n\u001b[0;32m--> 203\u001b[0;31m             \u001b[0monly_return_configuration_space\u001b[0m\u001b[0;34m,\u001b[0m\u001b[0;34m\u001b[0m\u001b[0;34m\u001b[0m\u001b[0m\n\u001b[0m\u001b[1;32m    204\u001b[0m         )\n\u001b[1;32m    205\u001b[0m \u001b[0;34m\u001b[0m\u001b[0m\n",
      "\u001b[0;32m~/.conda/envs/auto-sklearn/lib/python3.7/site-packages/autosklearn/automl.py\u001b[0m in \u001b[0;36m_fit\u001b[0;34m(self, datamanager, metric, only_return_configuration_space)\u001b[0m\n\u001b[1;32m    466\u001b[0m             )\n\u001b[1;32m    467\u001b[0m             \u001b[0mself\u001b[0m\u001b[0;34m.\u001b[0m\u001b[0mrunhistory_\u001b[0m\u001b[0;34m,\u001b[0m \u001b[0mself\u001b[0m\u001b[0;34m.\u001b[0m\u001b[0mtrajectory_\u001b[0m \u001b[0;34m=\u001b[0m\u001b[0;31m \u001b[0m\u001b[0;31m\\\u001b[0m\u001b[0;34m\u001b[0m\u001b[0;34m\u001b[0m\u001b[0m\n\u001b[0;32m--> 468\u001b[0;31m                 \u001b[0m_proc_smac\u001b[0m\u001b[0;34m.\u001b[0m\u001b[0mrun_smbo\u001b[0m\u001b[0;34m(\u001b[0m\u001b[0;34m)\u001b[0m\u001b[0;34m\u001b[0m\u001b[0;34m\u001b[0m\u001b[0m\n\u001b[0m\u001b[1;32m    469\u001b[0m             trajectory_filename = os.path.join(\n\u001b[1;32m    470\u001b[0m                 \u001b[0mself\u001b[0m\u001b[0;34m.\u001b[0m\u001b[0m_backend\u001b[0m\u001b[0;34m.\u001b[0m\u001b[0mget_smac_output_directory_for_run\u001b[0m\u001b[0;34m(\u001b[0m\u001b[0mself\u001b[0m\u001b[0;34m.\u001b[0m\u001b[0m_seed\u001b[0m\u001b[0;34m)\u001b[0m\u001b[0;34m,\u001b[0m\u001b[0;34m\u001b[0m\u001b[0;34m\u001b[0m\u001b[0m\n",
      "\u001b[0;32m~/.conda/envs/auto-sklearn/lib/python3.7/site-packages/autosklearn/smbo.py\u001b[0m in \u001b[0;36mrun_smbo\u001b[0;34m(self)\u001b[0m\n\u001b[1;32m    499\u001b[0m             \u001b[0msmac\u001b[0m \u001b[0;34m=\u001b[0m \u001b[0mget_smac_object\u001b[0m\u001b[0;34m(\u001b[0m\u001b[0;34m**\u001b[0m\u001b[0msmac_args\u001b[0m\u001b[0;34m)\u001b[0m\u001b[0;34m\u001b[0m\u001b[0;34m\u001b[0m\u001b[0m\n\u001b[1;32m    500\u001b[0m \u001b[0;34m\u001b[0m\u001b[0m\n\u001b[0;32m--> 501\u001b[0;31m         \u001b[0msmac\u001b[0m\u001b[0;34m.\u001b[0m\u001b[0moptimize\u001b[0m\u001b[0;34m(\u001b[0m\u001b[0;34m)\u001b[0m\u001b[0;34m\u001b[0m\u001b[0;34m\u001b[0m\u001b[0m\n\u001b[0m\u001b[1;32m    502\u001b[0m \u001b[0;34m\u001b[0m\u001b[0m\n\u001b[1;32m    503\u001b[0m         \u001b[0mself\u001b[0m\u001b[0;34m.\u001b[0m\u001b[0mrunhistory\u001b[0m \u001b[0;34m=\u001b[0m \u001b[0msmac\u001b[0m\u001b[0;34m.\u001b[0m\u001b[0msolver\u001b[0m\u001b[0;34m.\u001b[0m\u001b[0mrunhistory\u001b[0m\u001b[0;34m\u001b[0m\u001b[0;34m\u001b[0m\u001b[0m\n",
      "\u001b[0;32m~/.conda/envs/auto-sklearn/lib/python3.7/site-packages/smac/facade/smac_facade.py\u001b[0m in \u001b[0;36moptimize\u001b[0;34m(self)\u001b[0m\n\u001b[1;32m    398\u001b[0m         \u001b[0mincumbent\u001b[0m \u001b[0;34m=\u001b[0m \u001b[0;32mNone\u001b[0m\u001b[0;34m\u001b[0m\u001b[0;34m\u001b[0m\u001b[0m\n\u001b[1;32m    399\u001b[0m         \u001b[0;32mtry\u001b[0m\u001b[0;34m:\u001b[0m\u001b[0;34m\u001b[0m\u001b[0;34m\u001b[0m\u001b[0m\n\u001b[0;32m--> 400\u001b[0;31m             \u001b[0mincumbent\u001b[0m \u001b[0;34m=\u001b[0m \u001b[0mself\u001b[0m\u001b[0;34m.\u001b[0m\u001b[0msolver\u001b[0m\u001b[0;34m.\u001b[0m\u001b[0mrun\u001b[0m\u001b[0;34m(\u001b[0m\u001b[0;34m)\u001b[0m\u001b[0;34m\u001b[0m\u001b[0;34m\u001b[0m\u001b[0m\n\u001b[0m\u001b[1;32m    401\u001b[0m         \u001b[0;32mfinally\u001b[0m\u001b[0;34m:\u001b[0m\u001b[0;34m\u001b[0m\u001b[0;34m\u001b[0m\u001b[0m\n\u001b[1;32m    402\u001b[0m             \u001b[0mself\u001b[0m\u001b[0;34m.\u001b[0m\u001b[0msolver\u001b[0m\u001b[0;34m.\u001b[0m\u001b[0mstats\u001b[0m\u001b[0;34m.\u001b[0m\u001b[0msave\u001b[0m\u001b[0;34m(\u001b[0m\u001b[0;34m)\u001b[0m\u001b[0;34m\u001b[0m\u001b[0;34m\u001b[0m\u001b[0m\n",
      "\u001b[0;32m~/.conda/envs/auto-sklearn/lib/python3.7/site-packages/smac/optimizer/smbo.py\u001b[0m in \u001b[0;36mrun\u001b[0;34m(self)\u001b[0m\n\u001b[1;32m    163\u001b[0m             \u001b[0mThe\u001b[0m \u001b[0mbest\u001b[0m \u001b[0mfound\u001b[0m \u001b[0mconfiguration\u001b[0m\u001b[0;34m\u001b[0m\u001b[0;34m\u001b[0m\u001b[0m\n\u001b[1;32m    164\u001b[0m         \"\"\"\n\u001b[0;32m--> 165\u001b[0;31m         \u001b[0mself\u001b[0m\u001b[0;34m.\u001b[0m\u001b[0mstart\u001b[0m\u001b[0;34m(\u001b[0m\u001b[0;34m)\u001b[0m\u001b[0;34m\u001b[0m\u001b[0;34m\u001b[0m\u001b[0m\n\u001b[0m\u001b[1;32m    166\u001b[0m \u001b[0;34m\u001b[0m\u001b[0m\n\u001b[1;32m    167\u001b[0m         \u001b[0;31m# Main BO loop\u001b[0m\u001b[0;34m\u001b[0m\u001b[0;34m\u001b[0m\u001b[0;34m\u001b[0m\u001b[0m\n",
      "\u001b[0;32m~/.conda/envs/auto-sklearn/lib/python3.7/site-packages/smac/optimizer/smbo.py\u001b[0m in \u001b[0;36mstart\u001b[0;34m(self)\u001b[0m\n\u001b[1;32m    136\u001b[0m         \u001b[0;32mif\u001b[0m \u001b[0mself\u001b[0m\u001b[0;34m.\u001b[0m\u001b[0mstats\u001b[0m\u001b[0;34m.\u001b[0m\u001b[0mta_runs\u001b[0m \u001b[0;34m==\u001b[0m \u001b[0;36m0\u001b[0m \u001b[0;32mand\u001b[0m \u001b[0mself\u001b[0m\u001b[0;34m.\u001b[0m\u001b[0mincumbent\u001b[0m \u001b[0;32mis\u001b[0m \u001b[0;32mNone\u001b[0m\u001b[0;34m:\u001b[0m\u001b[0;34m\u001b[0m\u001b[0;34m\u001b[0m\u001b[0m\n\u001b[1;32m    137\u001b[0m             \u001b[0;32mtry\u001b[0m\u001b[0;34m:\u001b[0m\u001b[0;34m\u001b[0m\u001b[0;34m\u001b[0m\u001b[0m\n\u001b[0;32m--> 138\u001b[0;31m                 \u001b[0mself\u001b[0m\u001b[0;34m.\u001b[0m\u001b[0mincumbent\u001b[0m \u001b[0;34m=\u001b[0m \u001b[0mself\u001b[0m\u001b[0;34m.\u001b[0m\u001b[0minitial_design\u001b[0m\u001b[0;34m.\u001b[0m\u001b[0mrun\u001b[0m\u001b[0;34m(\u001b[0m\u001b[0;34m)\u001b[0m\u001b[0;34m\u001b[0m\u001b[0;34m\u001b[0m\u001b[0m\n\u001b[0m\u001b[1;32m    139\u001b[0m             \u001b[0;32mexcept\u001b[0m \u001b[0mFirstRunCrashedException\u001b[0m \u001b[0;32mas\u001b[0m \u001b[0merr\u001b[0m\u001b[0;34m:\u001b[0m\u001b[0;34m\u001b[0m\u001b[0;34m\u001b[0m\u001b[0m\n\u001b[1;32m    140\u001b[0m                 \u001b[0;32mif\u001b[0m \u001b[0mself\u001b[0m\u001b[0;34m.\u001b[0m\u001b[0mscenario\u001b[0m\u001b[0;34m.\u001b[0m\u001b[0mabort_on_first_run_crash\u001b[0m\u001b[0;34m:\u001b[0m\u001b[0;34m\u001b[0m\u001b[0;34m\u001b[0m\u001b[0m\n",
      "\u001b[0;32m~/.conda/envs/auto-sklearn/lib/python3.7/site-packages/smac/initial_design/multi_config_initial_design.py\u001b[0m in \u001b[0;36mrun\u001b[0;34m(self)\u001b[0m\n\u001b[1;32m    107\u001b[0m                                                        \u001b[0mincumbent\u001b[0m\u001b[0;34m=\u001b[0m\u001b[0mconfigs\u001b[0m\u001b[0;34m[\u001b[0m\u001b[0;36m0\u001b[0m\u001b[0;34m]\u001b[0m\u001b[0;34m,\u001b[0m\u001b[0;34m\u001b[0m\u001b[0;34m\u001b[0m\u001b[0m\n\u001b[1;32m    108\u001b[0m                                                        \u001b[0mrun_history\u001b[0m\u001b[0;34m=\u001b[0m\u001b[0mself\u001b[0m\u001b[0;34m.\u001b[0m\u001b[0mrunhistory\u001b[0m\u001b[0;34m,\u001b[0m\u001b[0;34m\u001b[0m\u001b[0;34m\u001b[0m\u001b[0m\n\u001b[0;32m--> 109\u001b[0;31m                                                        aggregate_func=self.aggregate_func)\n\u001b[0m\u001b[1;32m    110\u001b[0m \u001b[0;34m\u001b[0m\u001b[0m\n\u001b[1;32m    111\u001b[0m         \u001b[0;32melse\u001b[0m\u001b[0;34m:\u001b[0m\u001b[0;34m\u001b[0m\u001b[0;34m\u001b[0m\u001b[0m\n",
      "\u001b[0;32m~/.conda/envs/auto-sklearn/lib/python3.7/site-packages/smac/intensification/intensification.py\u001b[0m in \u001b[0;36mintensify\u001b[0;34m(self, challengers, incumbent, run_history, aggregate_func, time_bound, log_traj)\u001b[0m\n\u001b[1;32m    180\u001b[0m             \u001b[0;32mexcept\u001b[0m \u001b[0mBudgetExhaustedException\u001b[0m\u001b[0;34m:\u001b[0m\u001b[0;34m\u001b[0m\u001b[0;34m\u001b[0m\u001b[0m\n\u001b[1;32m    181\u001b[0m                 \u001b[0;31m# We return incumbent, SMBO stops due to its own budget checks\u001b[0m\u001b[0;34m\u001b[0m\u001b[0;34m\u001b[0m\u001b[0;34m\u001b[0m\u001b[0m\n\u001b[0;32m--> 182\u001b[0;31m                 \u001b[0minc_perf\u001b[0m \u001b[0;34m=\u001b[0m \u001b[0mrun_history\u001b[0m\u001b[0;34m.\u001b[0m\u001b[0mget_cost\u001b[0m\u001b[0;34m(\u001b[0m\u001b[0mincumbent\u001b[0m\u001b[0;34m)\u001b[0m\u001b[0;34m\u001b[0m\u001b[0;34m\u001b[0m\u001b[0m\n\u001b[0m\u001b[1;32m    183\u001b[0m                 \u001b[0mself\u001b[0m\u001b[0;34m.\u001b[0m\u001b[0mlogger\u001b[0m\u001b[0;34m.\u001b[0m\u001b[0mdebug\u001b[0m\u001b[0;34m(\u001b[0m\u001b[0;34m\"Budget exhausted; Return incumbent\"\u001b[0m\u001b[0;34m)\u001b[0m\u001b[0;34m\u001b[0m\u001b[0;34m\u001b[0m\u001b[0m\n\u001b[1;32m    184\u001b[0m                 \u001b[0;32mreturn\u001b[0m \u001b[0mincumbent\u001b[0m\u001b[0;34m,\u001b[0m \u001b[0minc_perf\u001b[0m\u001b[0;34m\u001b[0m\u001b[0;34m\u001b[0m\u001b[0m\n",
      "\u001b[0;32m~/.conda/envs/auto-sklearn/lib/python3.7/site-packages/smac/runhistory/runhistory.py\u001b[0m in \u001b[0;36mget_cost\u001b[0;34m(self, config)\u001b[0m\n\u001b[1;32m    269\u001b[0m             \u001b[0mComputed\u001b[0m \u001b[0mcost\u001b[0m \u001b[0;32mfor\u001b[0m \u001b[0mconfiguration\u001b[0m\u001b[0;34m\u001b[0m\u001b[0;34m\u001b[0m\u001b[0m\n\u001b[1;32m    270\u001b[0m         \"\"\"\n\u001b[0;32m--> 271\u001b[0;31m         \u001b[0mconfig_id\u001b[0m \u001b[0;34m=\u001b[0m \u001b[0mself\u001b[0m\u001b[0;34m.\u001b[0m\u001b[0mconfig_ids\u001b[0m\u001b[0;34m[\u001b[0m\u001b[0mconfig\u001b[0m\u001b[0;34m]\u001b[0m\u001b[0;34m\u001b[0m\u001b[0;34m\u001b[0m\u001b[0m\n\u001b[0m\u001b[1;32m    272\u001b[0m         \u001b[0;32mreturn\u001b[0m \u001b[0mself\u001b[0m\u001b[0;34m.\u001b[0m\u001b[0mcost_per_config\u001b[0m\u001b[0;34m.\u001b[0m\u001b[0mget\u001b[0m\u001b[0;34m(\u001b[0m\u001b[0mconfig_id\u001b[0m\u001b[0;34m,\u001b[0m \u001b[0mnp\u001b[0m\u001b[0;34m.\u001b[0m\u001b[0mnan\u001b[0m\u001b[0;34m)\u001b[0m\u001b[0;34m\u001b[0m\u001b[0;34m\u001b[0m\u001b[0m\n\u001b[1;32m    273\u001b[0m \u001b[0;34m\u001b[0m\u001b[0m\n",
      "\u001b[0;31mKeyError\u001b[0m: Configuration:\n  balancing:strategy, Value: 'none'\n  categorical_encoding:__choice__, Value: 'one_hot_encoding'\n  categorical_encoding:one_hot_encoding:minimum_fraction, Value: 0.01\n  categorical_encoding:one_hot_encoding:use_minimum_fraction, Value: 'True'\n  classifier:__choice__, Value: 'random_forest'\n  classifier:random_forest:bootstrap, Value: 'True'\n  classifier:random_forest:criterion, Value: 'gini'\n  classifier:random_forest:max_depth, Constant: 'None'\n  classifier:random_forest:max_features, Value: 0.5\n  classifier:random_forest:max_leaf_nodes, Constant: 'None'\n  classifier:random_forest:min_impurity_decrease, Constant: 0.0\n  classifier:random_forest:min_samples_leaf, Value: 1\n  classifier:random_forest:min_samples_split, Value: 2\n  classifier:random_forest:min_weight_fraction_leaf, Constant: 0.0\n  classifier:random_forest:n_estimators, Constant: 100\n  imputation:strategy, Value: 'mean'\n  preprocessor:__choice__, Value: 'no_preprocessing'\n  rescaling:__choice__, Value: 'standardize'\n"
     ]
    }
   ],
   "source": [
    "print('hi')\n",
    "snapshot = autosklearn.classification.AutoSklearnClassifier(\n",
    "        time_left_for_this_task=10,\n",
    "        per_run_time_limit = 10,\n",
    "        shared_mode=True, # tmp folder will be shared between seeds\n",
    "        tmp_folder=tmp_folder,\n",
    "        output_folder=output_folder,\n",
    "        delete_tmp_folder_after_terminate=False,\n",
    "        delete_output_folder_after_terminate=False,\n",
    "        seed=1000,)  \n",
    "snapshot.fit(X_test, y_test)"
   ]
  },
  {
   "cell_type": "code",
   "execution_count": 27,
   "metadata": {},
   "outputs": [
    {
     "ename": "AttributeError",
     "evalue": "'NoneType' object has no attribute 'get_models_with_weights'",
     "output_type": "error",
     "traceback": [
      "\u001b[0;31m---------------------------------------------------------------------------\u001b[0m",
      "\u001b[0;31mAttributeError\u001b[0m                            Traceback (most recent call last)",
      "\u001b[0;32m<ipython-input-27-d76cfbfb706c>\u001b[0m in \u001b[0;36m<module>\u001b[0;34m\u001b[0m\n\u001b[0;32m----> 1\u001b[0;31m \u001b[0msnapshot\u001b[0m\u001b[0;34m.\u001b[0m\u001b[0mget_models_with_weights\u001b[0m\u001b[0;34m(\u001b[0m\u001b[0;34m)\u001b[0m\u001b[0;34m\u001b[0m\u001b[0;34m\u001b[0m\u001b[0m\n\u001b[0m",
      "\u001b[0;32m~/.conda/envs/auto-sklearn/lib/python3.7/site-packages/autosklearn/estimators.py\u001b[0m in \u001b[0;36mget_models_with_weights\u001b[0;34m(self)\u001b[0m\n\u001b[1;32m    378\u001b[0m \u001b[0;34m\u001b[0m\u001b[0m\n\u001b[1;32m    379\u001b[0m         \"\"\"\n\u001b[0;32m--> 380\u001b[0;31m         \u001b[0;32mreturn\u001b[0m \u001b[0mself\u001b[0m\u001b[0;34m.\u001b[0m\u001b[0m_automl\u001b[0m\u001b[0;34m.\u001b[0m\u001b[0mget_models_with_weights\u001b[0m\u001b[0;34m(\u001b[0m\u001b[0;34m)\u001b[0m\u001b[0;34m\u001b[0m\u001b[0;34m\u001b[0m\u001b[0m\n\u001b[0m\u001b[1;32m    381\u001b[0m \u001b[0;34m\u001b[0m\u001b[0m\n\u001b[1;32m    382\u001b[0m     \u001b[0;34m@\u001b[0m\u001b[0mproperty\u001b[0m\u001b[0;34m\u001b[0m\u001b[0;34m\u001b[0m\u001b[0m\n",
      "\u001b[0;31mAttributeError\u001b[0m: 'NoneType' object has no attribute 'get_models_with_weights'"
     ]
    }
   ],
   "source": [
    "snapshot.get_models_with_weights()"
   ]
  },
  {
   "cell_type": "code",
   "execution_count": 24,
   "metadata": {},
   "outputs": [
    {
     "data": {
      "text/plain": [
       "56"
      ]
     },
     "execution_count": 24,
     "metadata": {},
     "output_type": "execute_result"
    }
   ],
   "source": [
    "sys.getsizeof(snapshot)"
   ]
  },
  {
   "cell_type": "code",
   "execution_count": 25,
   "metadata": {},
   "outputs": [
    {
     "data": {
      "text/plain": [
       "AutoSklearnClassifier(delete_output_folder_after_terminate=False,\n",
       "           delete_tmp_folder_after_terminate=False,\n",
       "           disable_evaluator_output=False, ensemble_memory_limit=1024,\n",
       "           ensemble_nbest=50, ensemble_size=50, exclude_estimators=None,\n",
       "           exclude_preprocessors=None, get_smac_object_callback=None,\n",
       "           include_estimators=None, include_preprocessors=None,\n",
       "           initial_configurations_via_metalearning=25, logging_config=None,\n",
       "           ml_memory_limit=3072,\n",
       "           output_folder='/tmp/autosklearn_parallel_example_out',\n",
       "           per_run_time_limit=1, resampling_strategy='holdout',\n",
       "           resampling_strategy_arguments=None, seed=1000, shared_mode=True,\n",
       "           smac_scenario_args=None, time_left_for_this_task=20,\n",
       "           tmp_folder='/tmp/autosklearn_parallel_example_tmp')"
      ]
     },
     "execution_count": 25,
     "metadata": {},
     "output_type": "execute_result"
    }
   ],
   "source": [
    "snapshot"
   ]
  },
  {
   "cell_type": "code",
   "execution_count": 72,
   "metadata": {},
   "outputs": [
    {
     "data": {
      "text/plain": [
       "347388"
      ]
     },
     "execution_count": 72,
     "metadata": {},
     "output_type": "execute_result"
    }
   ],
   "source": [
    "data = pd.read_csv(\"PMLB_benchmark_results/r1_maxtime14400_interval300.csv\", sep = '\\t')\n",
    "sys.getsizeof(data)"
   ]
  },
  {
   "cell_type": "code",
   "execution_count": 73,
   "metadata": {},
   "outputs": [
    {
     "data": {
      "text/plain": [
       "Index(['Unnamed: 0', 'mean_absolute_error', 'mean_squared_error',\n",
       "       'median_absolute_error', 'models', 'name', 'num_classes',\n",
       "       'num_features', 'num_instances', 'number', 'r2', 'time_stamp',\n",
       "       'train_mean_absolute_error', 'train_mean_squared_error',\n",
       "       'train_median_absolute_error', 'train_r2'],\n",
       "      dtype='object')"
      ]
     },
     "execution_count": 73,
     "metadata": {},
     "output_type": "execute_result"
    }
   ],
   "source": [
    "data.columns"
   ]
  },
  {
   "cell_type": "code",
   "execution_count": 74,
   "metadata": {},
   "outputs": [
    {
     "ename": "KeyError",
     "evalue": "\"['accuracy'] not in index\"",
     "output_type": "error",
     "traceback": [
      "\u001b[0;31m---------------------------------------------------------------------------\u001b[0m",
      "\u001b[0;31mKeyError\u001b[0m                                  Traceback (most recent call last)",
      "\u001b[0;32m<ipython-input-74-287a11d7e5d5>\u001b[0m in \u001b[0;36m<module>\u001b[0;34m\u001b[0m\n\u001b[0;32m----> 1\u001b[0;31m \u001b[0mdata\u001b[0m \u001b[0;34m=\u001b[0m \u001b[0mdata\u001b[0m\u001b[0;34m[\u001b[0m\u001b[0;34m[\u001b[0m\u001b[0;34m'time_stamp'\u001b[0m\u001b[0;34m,\u001b[0m \u001b[0;34m'accuracy'\u001b[0m\u001b[0;34m,\u001b[0m \u001b[0;34m'models'\u001b[0m\u001b[0;34m]\u001b[0m\u001b[0;34m]\u001b[0m\u001b[0;34m\u001b[0m\u001b[0;34m\u001b[0m\u001b[0m\n\u001b[0m",
      "\u001b[0;32m~/.conda/envs/auto-sklearn/lib/python3.7/site-packages/pandas/core/frame.py\u001b[0m in \u001b[0;36m__getitem__\u001b[0;34m(self, key)\u001b[0m\n\u001b[1;32m   2680\u001b[0m         \u001b[0;32mif\u001b[0m \u001b[0misinstance\u001b[0m\u001b[0;34m(\u001b[0m\u001b[0mkey\u001b[0m\u001b[0;34m,\u001b[0m \u001b[0;34m(\u001b[0m\u001b[0mSeries\u001b[0m\u001b[0;34m,\u001b[0m \u001b[0mnp\u001b[0m\u001b[0;34m.\u001b[0m\u001b[0mndarray\u001b[0m\u001b[0;34m,\u001b[0m \u001b[0mIndex\u001b[0m\u001b[0;34m,\u001b[0m \u001b[0mlist\u001b[0m\u001b[0;34m)\u001b[0m\u001b[0;34m)\u001b[0m\u001b[0;34m:\u001b[0m\u001b[0;34m\u001b[0m\u001b[0;34m\u001b[0m\u001b[0m\n\u001b[1;32m   2681\u001b[0m             \u001b[0;31m# either boolean or fancy integer index\u001b[0m\u001b[0;34m\u001b[0m\u001b[0;34m\u001b[0m\u001b[0;34m\u001b[0m\u001b[0m\n\u001b[0;32m-> 2682\u001b[0;31m             \u001b[0;32mreturn\u001b[0m \u001b[0mself\u001b[0m\u001b[0;34m.\u001b[0m\u001b[0m_getitem_array\u001b[0m\u001b[0;34m(\u001b[0m\u001b[0mkey\u001b[0m\u001b[0;34m)\u001b[0m\u001b[0;34m\u001b[0m\u001b[0;34m\u001b[0m\u001b[0m\n\u001b[0m\u001b[1;32m   2683\u001b[0m         \u001b[0;32melif\u001b[0m \u001b[0misinstance\u001b[0m\u001b[0;34m(\u001b[0m\u001b[0mkey\u001b[0m\u001b[0;34m,\u001b[0m \u001b[0mDataFrame\u001b[0m\u001b[0;34m)\u001b[0m\u001b[0;34m:\u001b[0m\u001b[0;34m\u001b[0m\u001b[0;34m\u001b[0m\u001b[0m\n\u001b[1;32m   2684\u001b[0m             \u001b[0;32mreturn\u001b[0m \u001b[0mself\u001b[0m\u001b[0;34m.\u001b[0m\u001b[0m_getitem_frame\u001b[0m\u001b[0;34m(\u001b[0m\u001b[0mkey\u001b[0m\u001b[0;34m)\u001b[0m\u001b[0;34m\u001b[0m\u001b[0;34m\u001b[0m\u001b[0m\n",
      "\u001b[0;32m~/.conda/envs/auto-sklearn/lib/python3.7/site-packages/pandas/core/frame.py\u001b[0m in \u001b[0;36m_getitem_array\u001b[0;34m(self, key)\u001b[0m\n\u001b[1;32m   2724\u001b[0m             \u001b[0;32mreturn\u001b[0m \u001b[0mself\u001b[0m\u001b[0;34m.\u001b[0m\u001b[0m_take\u001b[0m\u001b[0;34m(\u001b[0m\u001b[0mindexer\u001b[0m\u001b[0;34m,\u001b[0m \u001b[0maxis\u001b[0m\u001b[0;34m=\u001b[0m\u001b[0;36m0\u001b[0m\u001b[0;34m)\u001b[0m\u001b[0;34m\u001b[0m\u001b[0;34m\u001b[0m\u001b[0m\n\u001b[1;32m   2725\u001b[0m         \u001b[0;32melse\u001b[0m\u001b[0;34m:\u001b[0m\u001b[0;34m\u001b[0m\u001b[0;34m\u001b[0m\u001b[0m\n\u001b[0;32m-> 2726\u001b[0;31m             \u001b[0mindexer\u001b[0m \u001b[0;34m=\u001b[0m \u001b[0mself\u001b[0m\u001b[0;34m.\u001b[0m\u001b[0mloc\u001b[0m\u001b[0;34m.\u001b[0m\u001b[0m_convert_to_indexer\u001b[0m\u001b[0;34m(\u001b[0m\u001b[0mkey\u001b[0m\u001b[0;34m,\u001b[0m \u001b[0maxis\u001b[0m\u001b[0;34m=\u001b[0m\u001b[0;36m1\u001b[0m\u001b[0;34m)\u001b[0m\u001b[0;34m\u001b[0m\u001b[0;34m\u001b[0m\u001b[0m\n\u001b[0m\u001b[1;32m   2727\u001b[0m             \u001b[0;32mreturn\u001b[0m \u001b[0mself\u001b[0m\u001b[0;34m.\u001b[0m\u001b[0m_take\u001b[0m\u001b[0;34m(\u001b[0m\u001b[0mindexer\u001b[0m\u001b[0;34m,\u001b[0m \u001b[0maxis\u001b[0m\u001b[0;34m=\u001b[0m\u001b[0;36m1\u001b[0m\u001b[0;34m)\u001b[0m\u001b[0;34m\u001b[0m\u001b[0;34m\u001b[0m\u001b[0m\n\u001b[1;32m   2728\u001b[0m \u001b[0;34m\u001b[0m\u001b[0m\n",
      "\u001b[0;32m~/.conda/envs/auto-sklearn/lib/python3.7/site-packages/pandas/core/indexing.py\u001b[0m in \u001b[0;36m_convert_to_indexer\u001b[0;34m(self, obj, axis, is_setter)\u001b[0m\n\u001b[1;32m   1325\u001b[0m                 \u001b[0;32mif\u001b[0m \u001b[0mmask\u001b[0m\u001b[0;34m.\u001b[0m\u001b[0many\u001b[0m\u001b[0;34m(\u001b[0m\u001b[0;34m)\u001b[0m\u001b[0;34m:\u001b[0m\u001b[0;34m\u001b[0m\u001b[0;34m\u001b[0m\u001b[0m\n\u001b[1;32m   1326\u001b[0m                     raise KeyError('{mask} not in index'\n\u001b[0;32m-> 1327\u001b[0;31m                                    .format(mask=objarr[mask]))\n\u001b[0m\u001b[1;32m   1328\u001b[0m \u001b[0;34m\u001b[0m\u001b[0m\n\u001b[1;32m   1329\u001b[0m                 \u001b[0;32mreturn\u001b[0m \u001b[0mcom\u001b[0m\u001b[0;34m.\u001b[0m\u001b[0m_values_from_object\u001b[0m\u001b[0;34m(\u001b[0m\u001b[0mindexer\u001b[0m\u001b[0;34m)\u001b[0m\u001b[0;34m\u001b[0m\u001b[0;34m\u001b[0m\u001b[0m\n",
      "\u001b[0;31mKeyError\u001b[0m: \"['accuracy'] not in index\""
     ]
    }
   ],
   "source": [
    "data = data[['time_stamp', 'accuracy', 'models']]"
   ]
  },
  {
   "cell_type": "code",
   "execution_count": 69,
   "metadata": {},
   "outputs": [
    {
     "data": {
      "text/html": [
       "<div>\n",
       "<style scoped>\n",
       "    .dataframe tbody tr th:only-of-type {\n",
       "        vertical-align: middle;\n",
       "    }\n",
       "\n",
       "    .dataframe tbody tr th {\n",
       "        vertical-align: top;\n",
       "    }\n",
       "\n",
       "    .dataframe thead th {\n",
       "        text-align: right;\n",
       "    }\n",
       "</style>\n",
       "<table border=\"1\" class=\"dataframe\">\n",
       "  <thead>\n",
       "    <tr style=\"text-align: right;\">\n",
       "      <th></th>\n",
       "      <th>time_stamp</th>\n",
       "      <th>accuracy</th>\n",
       "      <th>models</th>\n",
       "    </tr>\n",
       "  </thead>\n",
       "  <tbody>\n",
       "    <tr>\n",
       "      <th>0</th>\n",
       "      <td>300</td>\n",
       "      <td>0.5700</td>\n",
       "      <td>[(0.36, SimpleClassificationPipeline({'balanci...</td>\n",
       "    </tr>\n",
       "    <tr>\n",
       "      <th>1</th>\n",
       "      <td>600</td>\n",
       "      <td>0.5675</td>\n",
       "      <td>[(0.4, SimpleClassificationPipeline({'balancin...</td>\n",
       "    </tr>\n",
       "    <tr>\n",
       "      <th>2</th>\n",
       "      <td>900</td>\n",
       "      <td>0.5675</td>\n",
       "      <td>[(0.28, SimpleClassificationPipeline({'balanci...</td>\n",
       "    </tr>\n",
       "    <tr>\n",
       "      <th>3</th>\n",
       "      <td>1200</td>\n",
       "      <td>0.5650</td>\n",
       "      <td>[(0.22, SimpleClassificationPipeline({'balanci...</td>\n",
       "    </tr>\n",
       "    <tr>\n",
       "      <th>4</th>\n",
       "      <td>1500</td>\n",
       "      <td>0.5750</td>\n",
       "      <td>[(0.92, SimpleClassificationPipeline({'balanci...</td>\n",
       "    </tr>\n",
       "    <tr>\n",
       "      <th>5</th>\n",
       "      <td>1800</td>\n",
       "      <td>0.5500</td>\n",
       "      <td>[(0.38, SimpleClassificationPipeline({'balanci...</td>\n",
       "    </tr>\n",
       "    <tr>\n",
       "      <th>6</th>\n",
       "      <td>2100</td>\n",
       "      <td>0.5700</td>\n",
       "      <td>[(0.44, SimpleClassificationPipeline({'balanci...</td>\n",
       "    </tr>\n",
       "    <tr>\n",
       "      <th>7</th>\n",
       "      <td>2400</td>\n",
       "      <td>0.5425</td>\n",
       "      <td>[(0.3, SimpleClassificationPipeline({'balancin...</td>\n",
       "    </tr>\n",
       "    <tr>\n",
       "      <th>8</th>\n",
       "      <td>2700</td>\n",
       "      <td>0.5600</td>\n",
       "      <td>[(0.5, SimpleClassificationPipeline({'balancin...</td>\n",
       "    </tr>\n",
       "    <tr>\n",
       "      <th>9</th>\n",
       "      <td>3000</td>\n",
       "      <td>0.5475</td>\n",
       "      <td>[(0.36, SimpleClassificationPipeline({'balanci...</td>\n",
       "    </tr>\n",
       "    <tr>\n",
       "      <th>10</th>\n",
       "      <td>3300</td>\n",
       "      <td>0.5625</td>\n",
       "      <td>[(0.48000000000000004, SimpleClassificationPip...</td>\n",
       "    </tr>\n",
       "    <tr>\n",
       "      <th>11</th>\n",
       "      <td>3600</td>\n",
       "      <td>0.5700</td>\n",
       "      <td>[(0.44, SimpleClassificationPipeline({'balanci...</td>\n",
       "    </tr>\n",
       "    <tr>\n",
       "      <th>12</th>\n",
       "      <td>3900</td>\n",
       "      <td>0.5725</td>\n",
       "      <td>[(0.4, SimpleClassificationPipeline({'balancin...</td>\n",
       "    </tr>\n",
       "    <tr>\n",
       "      <th>13</th>\n",
       "      <td>4200</td>\n",
       "      <td>0.5150</td>\n",
       "      <td>[(0.44, SimpleClassificationPipeline({'balanci...</td>\n",
       "    </tr>\n",
       "    <tr>\n",
       "      <th>14</th>\n",
       "      <td>4500</td>\n",
       "      <td>0.5375</td>\n",
       "      <td>[(0.52, SimpleClassificationPipeline({'balanci...</td>\n",
       "    </tr>\n",
       "    <tr>\n",
       "      <th>15</th>\n",
       "      <td>4800</td>\n",
       "      <td>0.5250</td>\n",
       "      <td>[(0.34, SimpleClassificationPipeline({'balanci...</td>\n",
       "    </tr>\n",
       "    <tr>\n",
       "      <th>16</th>\n",
       "      <td>5100</td>\n",
       "      <td>0.5575</td>\n",
       "      <td>[(0.44, SimpleClassificationPipeline({'balanci...</td>\n",
       "    </tr>\n",
       "    <tr>\n",
       "      <th>17</th>\n",
       "      <td>5400</td>\n",
       "      <td>0.5625</td>\n",
       "      <td>[(0.3, SimpleClassificationPipeline({'balancin...</td>\n",
       "    </tr>\n",
       "    <tr>\n",
       "      <th>18</th>\n",
       "      <td>5700</td>\n",
       "      <td>0.6500</td>\n",
       "      <td>[(0.32, SimpleClassificationPipeline({'balanci...</td>\n",
       "    </tr>\n",
       "    <tr>\n",
       "      <th>19</th>\n",
       "      <td>6000</td>\n",
       "      <td>0.6525</td>\n",
       "      <td>[(0.32, SimpleClassificationPipeline({'balanci...</td>\n",
       "    </tr>\n",
       "    <tr>\n",
       "      <th>20</th>\n",
       "      <td>6300</td>\n",
       "      <td>0.6775</td>\n",
       "      <td>[(0.28, SimpleClassificationPipeline({'balanci...</td>\n",
       "    </tr>\n",
       "    <tr>\n",
       "      <th>21</th>\n",
       "      <td>6600</td>\n",
       "      <td>0.6375</td>\n",
       "      <td>[(0.26, SimpleClassificationPipeline({'balanci...</td>\n",
       "    </tr>\n",
       "    <tr>\n",
       "      <th>22</th>\n",
       "      <td>6900</td>\n",
       "      <td>0.6525</td>\n",
       "      <td>[(0.4, SimpleClassificationPipeline({'balancin...</td>\n",
       "    </tr>\n",
       "    <tr>\n",
       "      <th>23</th>\n",
       "      <td>7200</td>\n",
       "      <td>0.7000</td>\n",
       "      <td>[(0.30000000000000004, SimpleClassificationPip...</td>\n",
       "    </tr>\n",
       "    <tr>\n",
       "      <th>24</th>\n",
       "      <td>7500</td>\n",
       "      <td>0.7050</td>\n",
       "      <td>[(0.22, SimpleClassificationPipeline({'balanci...</td>\n",
       "    </tr>\n",
       "    <tr>\n",
       "      <th>25</th>\n",
       "      <td>7800</td>\n",
       "      <td>0.7150</td>\n",
       "      <td>[(0.2, SimpleClassificationPipeline({'balancin...</td>\n",
       "    </tr>\n",
       "    <tr>\n",
       "      <th>26</th>\n",
       "      <td>8100</td>\n",
       "      <td>0.7150</td>\n",
       "      <td>[(0.26, SimpleClassificationPipeline({'balanci...</td>\n",
       "    </tr>\n",
       "    <tr>\n",
       "      <th>27</th>\n",
       "      <td>8400</td>\n",
       "      <td>0.7375</td>\n",
       "      <td>[(0.14, SimpleClassificationPipeline({'balanci...</td>\n",
       "    </tr>\n",
       "    <tr>\n",
       "      <th>28</th>\n",
       "      <td>8700</td>\n",
       "      <td>0.7300</td>\n",
       "      <td>[(0.16, SimpleClassificationPipeline({'balanci...</td>\n",
       "    </tr>\n",
       "    <tr>\n",
       "      <th>29</th>\n",
       "      <td>9000</td>\n",
       "      <td>0.7225</td>\n",
       "      <td>[(0.14, SimpleClassificationPipeline({'balanci...</td>\n",
       "    </tr>\n",
       "    <tr>\n",
       "      <th>30</th>\n",
       "      <td>9300</td>\n",
       "      <td>0.7175</td>\n",
       "      <td>[(0.12, SimpleClassificationPipeline({'balanci...</td>\n",
       "    </tr>\n",
       "    <tr>\n",
       "      <th>31</th>\n",
       "      <td>9600</td>\n",
       "      <td>0.7000</td>\n",
       "      <td>[(0.08000000000000002, SimpleClassificationPip...</td>\n",
       "    </tr>\n",
       "    <tr>\n",
       "      <th>32</th>\n",
       "      <td>9900</td>\n",
       "      <td>0.7125</td>\n",
       "      <td>[(0.1, SimpleClassificationPipeline({'balancin...</td>\n",
       "    </tr>\n",
       "    <tr>\n",
       "      <th>33</th>\n",
       "      <td>10200</td>\n",
       "      <td>0.7025</td>\n",
       "      <td>[(0.2, SimpleClassificationPipeline({'balancin...</td>\n",
       "    </tr>\n",
       "    <tr>\n",
       "      <th>34</th>\n",
       "      <td>10500</td>\n",
       "      <td>0.7150</td>\n",
       "      <td>[(0.16, SimpleClassificationPipeline({'balanci...</td>\n",
       "    </tr>\n",
       "    <tr>\n",
       "      <th>35</th>\n",
       "      <td>10800</td>\n",
       "      <td>0.7150</td>\n",
       "      <td>[(0.08, SimpleClassificationPipeline({'balanci...</td>\n",
       "    </tr>\n",
       "    <tr>\n",
       "      <th>36</th>\n",
       "      <td>11100</td>\n",
       "      <td>0.7025</td>\n",
       "      <td>[(0.14, SimpleClassificationPipeline({'balanci...</td>\n",
       "    </tr>\n",
       "    <tr>\n",
       "      <th>37</th>\n",
       "      <td>11400</td>\n",
       "      <td>0.7175</td>\n",
       "      <td>[(0.2, SimpleClassificationPipeline({'balancin...</td>\n",
       "    </tr>\n",
       "    <tr>\n",
       "      <th>38</th>\n",
       "      <td>11700</td>\n",
       "      <td>0.7250</td>\n",
       "      <td>[(0.12, SimpleClassificationPipeline({'balanci...</td>\n",
       "    </tr>\n",
       "    <tr>\n",
       "      <th>39</th>\n",
       "      <td>12000</td>\n",
       "      <td>0.7125</td>\n",
       "      <td>[(0.16, SimpleClassificationPipeline({'balanci...</td>\n",
       "    </tr>\n",
       "    <tr>\n",
       "      <th>40</th>\n",
       "      <td>12300</td>\n",
       "      <td>0.7050</td>\n",
       "      <td>[(0.16, SimpleClassificationPipeline({'balanci...</td>\n",
       "    </tr>\n",
       "    <tr>\n",
       "      <th>41</th>\n",
       "      <td>12600</td>\n",
       "      <td>0.7200</td>\n",
       "      <td>[(0.14, SimpleClassificationPipeline({'balanci...</td>\n",
       "    </tr>\n",
       "    <tr>\n",
       "      <th>42</th>\n",
       "      <td>12900</td>\n",
       "      <td>0.7175</td>\n",
       "      <td>[(0.16, SimpleClassificationPipeline({'balanci...</td>\n",
       "    </tr>\n",
       "    <tr>\n",
       "      <th>43</th>\n",
       "      <td>13200</td>\n",
       "      <td>0.7100</td>\n",
       "      <td>[(0.12, SimpleClassificationPipeline({'balanci...</td>\n",
       "    </tr>\n",
       "    <tr>\n",
       "      <th>44</th>\n",
       "      <td>13500</td>\n",
       "      <td>0.7125</td>\n",
       "      <td>[(0.18, SimpleClassificationPipeline({'balanci...</td>\n",
       "    </tr>\n",
       "    <tr>\n",
       "      <th>45</th>\n",
       "      <td>13800</td>\n",
       "      <td>0.7025</td>\n",
       "      <td>[(0.1, SimpleClassificationPipeline({'balancin...</td>\n",
       "    </tr>\n",
       "    <tr>\n",
       "      <th>46</th>\n",
       "      <td>14100</td>\n",
       "      <td>0.7150</td>\n",
       "      <td>[(0.08, SimpleClassificationPipeline({'balanci...</td>\n",
       "    </tr>\n",
       "    <tr>\n",
       "      <th>47</th>\n",
       "      <td>14400</td>\n",
       "      <td>0.6975</td>\n",
       "      <td>[(0.12, SimpleClassificationPipeline({'balanci...</td>\n",
       "    </tr>\n",
       "    <tr>\n",
       "      <th>48</th>\n",
       "      <td>14700</td>\n",
       "      <td>0.7125</td>\n",
       "      <td>[(0.1, SimpleClassificationPipeline({'balancin...</td>\n",
       "    </tr>\n",
       "  </tbody>\n",
       "</table>\n",
       "</div>"
      ],
      "text/plain": [
       "    time_stamp  accuracy                                             models\n",
       "0          300    0.5700  [(0.36, SimpleClassificationPipeline({'balanci...\n",
       "1          600    0.5675  [(0.4, SimpleClassificationPipeline({'balancin...\n",
       "2          900    0.5675  [(0.28, SimpleClassificationPipeline({'balanci...\n",
       "3         1200    0.5650  [(0.22, SimpleClassificationPipeline({'balanci...\n",
       "4         1500    0.5750  [(0.92, SimpleClassificationPipeline({'balanci...\n",
       "5         1800    0.5500  [(0.38, SimpleClassificationPipeline({'balanci...\n",
       "6         2100    0.5700  [(0.44, SimpleClassificationPipeline({'balanci...\n",
       "7         2400    0.5425  [(0.3, SimpleClassificationPipeline({'balancin...\n",
       "8         2700    0.5600  [(0.5, SimpleClassificationPipeline({'balancin...\n",
       "9         3000    0.5475  [(0.36, SimpleClassificationPipeline({'balanci...\n",
       "10        3300    0.5625  [(0.48000000000000004, SimpleClassificationPip...\n",
       "11        3600    0.5700  [(0.44, SimpleClassificationPipeline({'balanci...\n",
       "12        3900    0.5725  [(0.4, SimpleClassificationPipeline({'balancin...\n",
       "13        4200    0.5150  [(0.44, SimpleClassificationPipeline({'balanci...\n",
       "14        4500    0.5375  [(0.52, SimpleClassificationPipeline({'balanci...\n",
       "15        4800    0.5250  [(0.34, SimpleClassificationPipeline({'balanci...\n",
       "16        5100    0.5575  [(0.44, SimpleClassificationPipeline({'balanci...\n",
       "17        5400    0.5625  [(0.3, SimpleClassificationPipeline({'balancin...\n",
       "18        5700    0.6500  [(0.32, SimpleClassificationPipeline({'balanci...\n",
       "19        6000    0.6525  [(0.32, SimpleClassificationPipeline({'balanci...\n",
       "20        6300    0.6775  [(0.28, SimpleClassificationPipeline({'balanci...\n",
       "21        6600    0.6375  [(0.26, SimpleClassificationPipeline({'balanci...\n",
       "22        6900    0.6525  [(0.4, SimpleClassificationPipeline({'balancin...\n",
       "23        7200    0.7000  [(0.30000000000000004, SimpleClassificationPip...\n",
       "24        7500    0.7050  [(0.22, SimpleClassificationPipeline({'balanci...\n",
       "25        7800    0.7150  [(0.2, SimpleClassificationPipeline({'balancin...\n",
       "26        8100    0.7150  [(0.26, SimpleClassificationPipeline({'balanci...\n",
       "27        8400    0.7375  [(0.14, SimpleClassificationPipeline({'balanci...\n",
       "28        8700    0.7300  [(0.16, SimpleClassificationPipeline({'balanci...\n",
       "29        9000    0.7225  [(0.14, SimpleClassificationPipeline({'balanci...\n",
       "30        9300    0.7175  [(0.12, SimpleClassificationPipeline({'balanci...\n",
       "31        9600    0.7000  [(0.08000000000000002, SimpleClassificationPip...\n",
       "32        9900    0.7125  [(0.1, SimpleClassificationPipeline({'balancin...\n",
       "33       10200    0.7025  [(0.2, SimpleClassificationPipeline({'balancin...\n",
       "34       10500    0.7150  [(0.16, SimpleClassificationPipeline({'balanci...\n",
       "35       10800    0.7150  [(0.08, SimpleClassificationPipeline({'balanci...\n",
       "36       11100    0.7025  [(0.14, SimpleClassificationPipeline({'balanci...\n",
       "37       11400    0.7175  [(0.2, SimpleClassificationPipeline({'balancin...\n",
       "38       11700    0.7250  [(0.12, SimpleClassificationPipeline({'balanci...\n",
       "39       12000    0.7125  [(0.16, SimpleClassificationPipeline({'balanci...\n",
       "40       12300    0.7050  [(0.16, SimpleClassificationPipeline({'balanci...\n",
       "41       12600    0.7200  [(0.14, SimpleClassificationPipeline({'balanci...\n",
       "42       12900    0.7175  [(0.16, SimpleClassificationPipeline({'balanci...\n",
       "43       13200    0.7100  [(0.12, SimpleClassificationPipeline({'balanci...\n",
       "44       13500    0.7125  [(0.18, SimpleClassificationPipeline({'balanci...\n",
       "45       13800    0.7025  [(0.1, SimpleClassificationPipeline({'balancin...\n",
       "46       14100    0.7150  [(0.08, SimpleClassificationPipeline({'balanci...\n",
       "47       14400    0.6975  [(0.12, SimpleClassificationPipeline({'balanci...\n",
       "48       14700    0.7125  [(0.1, SimpleClassificationPipeline({'balancin..."
      ]
     },
     "execution_count": 69,
     "metadata": {},
     "output_type": "execute_result"
    }
   ],
   "source": [
    "data "
   ]
  },
  {
   "cell_type": "code",
   "execution_count": 70,
   "metadata": {
    "collapsed": true
   },
   "outputs": [],
   "source": [
    "times = data['time_stamp'].tolist()\n",
    "accuracies = data['accuracy'].tolist()"
   ]
  },
  {
   "cell_type": "code",
   "execution_count": 71,
   "metadata": {},
   "outputs": [
    {
     "data": {
      "text/plain": [
       "[<matplotlib.lines.Line2D at 0x7f3d5f5179e8>]"
      ]
     },
     "execution_count": 71,
     "metadata": {},
     "output_type": "execute_result"
    },
    {
     "data": {
      "image/png": "[encoded data removed]",
      "text/plain": [
       "<Figure size 432x288 with 1 Axes>"
      ]
     },
     "metadata": {
      "needs_background": "light"
     },
     "output_type": "display_data"
    }
   ],
   "source": [
    "plt.plot(times, accuracies)"
   ]
  },
  {
   "cell_type": "code",
   "execution_count": 83,
   "metadata": {},
   "outputs": [
    {
     "ename": "ValueError",
     "evalue": "No axis named  for object type <class 'pandas.core.series.Series'>",
     "output_type": "error",
     "traceback": [
      "\u001b[0;31m---------------------------------------------------------------------------\u001b[0m",
      "\u001b[0;31mValueError\u001b[0m                                Traceback (most recent call last)",
      "\u001b[0;32m<ipython-input-83-b73dc57ab4d2>\u001b[0m in \u001b[0;36m<module>\u001b[0;34m\u001b[0m\n\u001b[0;32m----> 1\u001b[0;31m \u001b[0mdata\u001b[0m\u001b[0;34m[\u001b[0m\u001b[0;34m'models'\u001b[0m\u001b[0;34m]\u001b[0m\u001b[0;34m.\u001b[0m\u001b[0miloc\u001b[0m\u001b[0;34m(\u001b[0m\u001b[0;34m''\u001b[0m\u001b[0;34m)\u001b[0m\u001b[0;34m\u001b[0m\u001b[0;34m\u001b[0m\u001b[0m\n\u001b[0m",
      "\u001b[0;32m~/.conda/envs/auto-sklearn/lib/python3.7/site-packages/pandas/core/indexing.py\u001b[0m in \u001b[0;36m__call__\u001b[0;34m(self, axis)\u001b[0m\n\u001b[1;32m     96\u001b[0m \u001b[0;34m\u001b[0m\u001b[0m\n\u001b[1;32m     97\u001b[0m         \u001b[0;32mif\u001b[0m \u001b[0maxis\u001b[0m \u001b[0;32mis\u001b[0m \u001b[0;32mnot\u001b[0m \u001b[0;32mNone\u001b[0m\u001b[0;34m:\u001b[0m\u001b[0;34m\u001b[0m\u001b[0;34m\u001b[0m\u001b[0m\n\u001b[0;32m---> 98\u001b[0;31m             \u001b[0maxis\u001b[0m \u001b[0;34m=\u001b[0m \u001b[0mself\u001b[0m\u001b[0;34m.\u001b[0m\u001b[0mobj\u001b[0m\u001b[0;34m.\u001b[0m\u001b[0m_get_axis_number\u001b[0m\u001b[0;34m(\u001b[0m\u001b[0maxis\u001b[0m\u001b[0;34m)\u001b[0m\u001b[0;34m\u001b[0m\u001b[0;34m\u001b[0m\u001b[0m\n\u001b[0m\u001b[1;32m     99\u001b[0m         \u001b[0mnew_self\u001b[0m\u001b[0;34m.\u001b[0m\u001b[0maxis\u001b[0m \u001b[0;34m=\u001b[0m \u001b[0maxis\u001b[0m\u001b[0;34m\u001b[0m\u001b[0;34m\u001b[0m\u001b[0m\n\u001b[1;32m    100\u001b[0m         \u001b[0;32mreturn\u001b[0m \u001b[0mnew_self\u001b[0m\u001b[0;34m\u001b[0m\u001b[0;34m\u001b[0m\u001b[0m\n",
      "\u001b[0;32m~/.conda/envs/auto-sklearn/lib/python3.7/site-packages/pandas/core/generic.py\u001b[0m in \u001b[0;36m_get_axis_number\u001b[0;34m(self, axis)\u001b[0m\n\u001b[1;32m    373\u001b[0m                 \u001b[0;32mpass\u001b[0m\u001b[0;34m\u001b[0m\u001b[0;34m\u001b[0m\u001b[0m\n\u001b[1;32m    374\u001b[0m         raise ValueError('No axis named {0} for object type {1}'\n\u001b[0;32m--> 375\u001b[0;31m                          .format(axis, type(self)))\n\u001b[0m\u001b[1;32m    376\u001b[0m \u001b[0;34m\u001b[0m\u001b[0m\n\u001b[1;32m    377\u001b[0m     \u001b[0;32mdef\u001b[0m \u001b[0m_get_axis_name\u001b[0m\u001b[0;34m(\u001b[0m\u001b[0mself\u001b[0m\u001b[0;34m,\u001b[0m \u001b[0maxis\u001b[0m\u001b[0;34m)\u001b[0m\u001b[0;34m:\u001b[0m\u001b[0;34m\u001b[0m\u001b[0;34m\u001b[0m\u001b[0m\n",
      "\u001b[0;31mValueError\u001b[0m: No axis named  for object type <class 'pandas.core.series.Series'>"
     ]
    }
   ],
   "source": []
  },
  {
   "cell_type": "code",
   "execution_count": 97,
   "metadata": {},
   "outputs": [
    {
     "data": {
      "text/plain": [
       "2000"
      ]
     },
     "execution_count": 97,
     "metadata": {},
     "output_type": "execute_result"
    }
   ],
   "source": [
    "10*200"
   ]
  },
  {
   "cell_type": "code",
   "execution_count": null,
   "metadata": {
    "collapsed": true
   },
   "outputs": [],
   "source": []
  }
 ],
 "metadata": {
  "kernelspec": {
   "display_name": "Python [conda env:auto-sklearn]",
   "language": "python",
   "name": "conda-env-auto-sklearn-py"
  },
  "language_info": {
   "codemirror_mode": {
    "name": "ipython",
    "version": 3
   },
   "file_extension": ".py",
   "mimetype": "text/x-python",
   "name": "python",
   "nbconvert_exporter": "python",
   "pygments_lexer": "ipython3",
   "version": "3.7.1"
  }
 },
 "nbformat": 4,
 "nbformat_minor": 1
}
